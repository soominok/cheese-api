{
 "cells": [
  {
   "cell_type": "code",
   "execution_count": 1,
   "metadata": {},
   "outputs": [],
   "source": [
    "import pandas as pd\n",
    "\n",
    "users = pd.read_csv(\"resources/data/user_dataset.csv\")"
   ]
  },
  {
   "cell_type": "code",
   "execution_count": 2,
   "metadata": {},
   "outputs": [
    {
     "data": {
      "text/html": [
       "<div>\n",
       "<style scoped>\n",
       "    .dataframe tbody tr th:only-of-type {\n",
       "        vertical-align: middle;\n",
       "    }\n",
       "\n",
       "    .dataframe tbody tr th {\n",
       "        vertical-align: top;\n",
       "    }\n",
       "\n",
       "    .dataframe thead th {\n",
       "        text-align: right;\n",
       "    }\n",
       "</style>\n",
       "<table border=\"1\" class=\"dataframe\">\n",
       "  <thead>\n",
       "    <tr style=\"text-align: right;\">\n",
       "      <th></th>\n",
       "      <th>user_no</th>\n",
       "      <th>user_id</th>\n",
       "      <th>user_gender</th>\n",
       "      <th>user_age</th>\n",
       "      <th>buy_count</th>\n",
       "      <th>cheese_rank</th>\n",
       "      <th>cheese_code</th>\n",
       "      <th>cheese_id</th>\n",
       "      <th>cheese_brand</th>\n",
       "      <th>cheese_name</th>\n",
       "      <th>cheese_texture</th>\n",
       "      <th>cheese_types</th>\n",
       "      <th>cheese_category</th>\n",
       "      <th>cheese_one_price</th>\n",
       "      <th>gender</th>\n",
       "      <th>age_group</th>\n",
       "      <th>cheese_category_code</th>\n",
       "      <th>cheese_texture_code</th>\n",
       "      <th>brand</th>\n",
       "      <th>brand_code</th>\n",
       "    </tr>\n",
       "  </thead>\n",
       "  <tbody>\n",
       "    <tr>\n",
       "      <th>0</th>\n",
       "      <td>0</td>\n",
       "      <td>2391853</td>\n",
       "      <td>M</td>\n",
       "      <td>40</td>\n",
       "      <td>1</td>\n",
       "      <td>8.0</td>\n",
       "      <td>8</td>\n",
       "      <td>p8</td>\n",
       "      <td>프란시아</td>\n",
       "      <td>리코타 치즈</td>\n",
       "      <td>후레쉬치즈</td>\n",
       "      <td>자연치즈</td>\n",
       "      <td>리코타</td>\n",
       "      <td>4,600원</td>\n",
       "      <td>0</td>\n",
       "      <td>3</td>\n",
       "      <td>3</td>\n",
       "      <td>1</td>\n",
       "      <td>프란시아</td>\n",
       "      <td>15</td>\n",
       "    </tr>\n",
       "    <tr>\n",
       "      <th>1</th>\n",
       "      <td>1</td>\n",
       "      <td>1799897</td>\n",
       "      <td>F</td>\n",
       "      <td>40</td>\n",
       "      <td>1</td>\n",
       "      <td>8.0</td>\n",
       "      <td>8</td>\n",
       "      <td>p8</td>\n",
       "      <td>프란시아</td>\n",
       "      <td>리코타 치즈</td>\n",
       "      <td>후레쉬치즈</td>\n",
       "      <td>자연치즈</td>\n",
       "      <td>리코타</td>\n",
       "      <td>4,600원</td>\n",
       "      <td>1</td>\n",
       "      <td>3</td>\n",
       "      <td>3</td>\n",
       "      <td>1</td>\n",
       "      <td>프란시아</td>\n",
       "      <td>15</td>\n",
       "    </tr>\n",
       "    <tr>\n",
       "      <th>2</th>\n",
       "      <td>2</td>\n",
       "      <td>1614947</td>\n",
       "      <td>F</td>\n",
       "      <td>50</td>\n",
       "      <td>1</td>\n",
       "      <td>10.0</td>\n",
       "      <td>10</td>\n",
       "      <td>p10</td>\n",
       "      <td>푸글리제</td>\n",
       "      <td>모짜렐라</td>\n",
       "      <td>후레쉬치즈</td>\n",
       "      <td>자연치즈</td>\n",
       "      <td>모짜렐라</td>\n",
       "      <td>5,500원</td>\n",
       "      <td>1</td>\n",
       "      <td>4</td>\n",
       "      <td>1</td>\n",
       "      <td>1</td>\n",
       "      <td>푸글리제</td>\n",
       "      <td>30</td>\n",
       "    </tr>\n",
       "    <tr>\n",
       "      <th>3</th>\n",
       "      <td>3</td>\n",
       "      <td>1614947</td>\n",
       "      <td>F</td>\n",
       "      <td>50</td>\n",
       "      <td>1</td>\n",
       "      <td>10.0</td>\n",
       "      <td>10</td>\n",
       "      <td>p10</td>\n",
       "      <td>푸글리제</td>\n",
       "      <td>모짜렐라</td>\n",
       "      <td>후레쉬치즈</td>\n",
       "      <td>자연치즈</td>\n",
       "      <td>모짜렐라</td>\n",
       "      <td>5,500원</td>\n",
       "      <td>1</td>\n",
       "      <td>4</td>\n",
       "      <td>1</td>\n",
       "      <td>1</td>\n",
       "      <td>푸글리제</td>\n",
       "      <td>30</td>\n",
       "    </tr>\n",
       "    <tr>\n",
       "      <th>4</th>\n",
       "      <td>4</td>\n",
       "      <td>1614947</td>\n",
       "      <td>F</td>\n",
       "      <td>50</td>\n",
       "      <td>5</td>\n",
       "      <td>14.0</td>\n",
       "      <td>15</td>\n",
       "      <td>p14</td>\n",
       "      <td>콜롬보</td>\n",
       "      <td>모짜렐라</td>\n",
       "      <td>후레쉬치즈</td>\n",
       "      <td>자연치즈</td>\n",
       "      <td>모짜렐라</td>\n",
       "      <td>4,900원</td>\n",
       "      <td>1</td>\n",
       "      <td>4</td>\n",
       "      <td>1</td>\n",
       "      <td>1</td>\n",
       "      <td>콜롬보</td>\n",
       "      <td>28</td>\n",
       "    </tr>\n",
       "  </tbody>\n",
       "</table>\n",
       "</div>"
      ],
      "text/plain": [
       "   user_no  user_id user_gender  user_age  buy_count  cheese_rank  \\\n",
       "0        0  2391853           M        40          1          8.0   \n",
       "1        1  1799897           F        40          1          8.0   \n",
       "2        2  1614947           F        50          1         10.0   \n",
       "3        3  1614947           F        50          1         10.0   \n",
       "4        4  1614947           F        50          5         14.0   \n",
       "\n",
       "   cheese_code cheese_id cheese_brand cheese_name cheese_texture cheese_types  \\\n",
       "0            8        p8         프란시아      리코타 치즈          후레쉬치즈         자연치즈   \n",
       "1            8        p8         프란시아      리코타 치즈          후레쉬치즈         자연치즈   \n",
       "2           10       p10         푸글리제        모짜렐라          후레쉬치즈         자연치즈   \n",
       "3           10       p10         푸글리제        모짜렐라          후레쉬치즈         자연치즈   \n",
       "4           15       p14          콜롬보        모짜렐라          후레쉬치즈         자연치즈   \n",
       "\n",
       "  cheese_category cheese_one_price  gender  age_group  cheese_category_code  \\\n",
       "0             리코타           4,600원       0          3                     3   \n",
       "1             리코타           4,600원       1          3                     3   \n",
       "2            모짜렐라           5,500원       1          4                     1   \n",
       "3            모짜렐라           5,500원       1          4                     1   \n",
       "4            모짜렐라           4,900원       1          4                     1   \n",
       "\n",
       "   cheese_texture_code brand  brand_code  \n",
       "0                    1  프란시아          15  \n",
       "1                    1  프란시아          15  \n",
       "2                    1  푸글리제          30  \n",
       "3                    1  푸글리제          30  \n",
       "4                    1   콜롬보          28  "
      ]
     },
     "execution_count": 2,
     "metadata": {},
     "output_type": "execute_result"
    }
   ],
   "source": [
    "users.head(5)"
   ]
  },
  {
   "cell_type": "code",
   "execution_count": 3,
   "metadata": {},
   "outputs": [],
   "source": [
    "# user_X_train_set = user_X_train.drop('user_id', axis = 1)\n",
    "users['cheese_id'] = users['cheese_id'].str.replace('p','')\n",
    "users['cheese_one_price'] = users['cheese_one_price'].str.replace(',', '')\n",
    "users['cheese_one_price'] = users['cheese_one_price'].str.replace('원', '')\n",
    "users = users.astype({'cheese_one_price': int})\n",
    "\n",
    "# user_X_trian_set = user_X_train_set.astype({'cheese_one_price': int})"
   ]
  },
  {
   "cell_type": "code",
   "execution_count": 4,
   "metadata": {},
   "outputs": [
    {
     "data": {
      "text/html": [
       "<div>\n",
       "<style scoped>\n",
       "    .dataframe tbody tr th:only-of-type {\n",
       "        vertical-align: middle;\n",
       "    }\n",
       "\n",
       "    .dataframe tbody tr th {\n",
       "        vertical-align: top;\n",
       "    }\n",
       "\n",
       "    .dataframe thead th {\n",
       "        text-align: right;\n",
       "    }\n",
       "</style>\n",
       "<table border=\"1\" class=\"dataframe\">\n",
       "  <thead>\n",
       "    <tr style=\"text-align: right;\">\n",
       "      <th></th>\n",
       "      <th>user_no</th>\n",
       "      <th>user_id</th>\n",
       "      <th>user_gender</th>\n",
       "      <th>user_age</th>\n",
       "      <th>buy_count</th>\n",
       "      <th>cheese_rank</th>\n",
       "      <th>cheese_code</th>\n",
       "      <th>cheese_id</th>\n",
       "      <th>cheese_brand</th>\n",
       "      <th>cheese_name</th>\n",
       "      <th>cheese_texture</th>\n",
       "      <th>cheese_types</th>\n",
       "      <th>cheese_category</th>\n",
       "      <th>cheese_one_price</th>\n",
       "      <th>gender</th>\n",
       "      <th>age_group</th>\n",
       "      <th>cheese_category_code</th>\n",
       "      <th>cheese_texture_code</th>\n",
       "      <th>brand</th>\n",
       "      <th>brand_code</th>\n",
       "    </tr>\n",
       "  </thead>\n",
       "  <tbody>\n",
       "    <tr>\n",
       "      <th>0</th>\n",
       "      <td>0</td>\n",
       "      <td>2391853</td>\n",
       "      <td>M</td>\n",
       "      <td>40</td>\n",
       "      <td>1</td>\n",
       "      <td>8.0</td>\n",
       "      <td>8</td>\n",
       "      <td>8</td>\n",
       "      <td>프란시아</td>\n",
       "      <td>리코타 치즈</td>\n",
       "      <td>후레쉬치즈</td>\n",
       "      <td>자연치즈</td>\n",
       "      <td>리코타</td>\n",
       "      <td>4600</td>\n",
       "      <td>0</td>\n",
       "      <td>3</td>\n",
       "      <td>3</td>\n",
       "      <td>1</td>\n",
       "      <td>프란시아</td>\n",
       "      <td>15</td>\n",
       "    </tr>\n",
       "    <tr>\n",
       "      <th>1</th>\n",
       "      <td>1</td>\n",
       "      <td>1799897</td>\n",
       "      <td>F</td>\n",
       "      <td>40</td>\n",
       "      <td>1</td>\n",
       "      <td>8.0</td>\n",
       "      <td>8</td>\n",
       "      <td>8</td>\n",
       "      <td>프란시아</td>\n",
       "      <td>리코타 치즈</td>\n",
       "      <td>후레쉬치즈</td>\n",
       "      <td>자연치즈</td>\n",
       "      <td>리코타</td>\n",
       "      <td>4600</td>\n",
       "      <td>1</td>\n",
       "      <td>3</td>\n",
       "      <td>3</td>\n",
       "      <td>1</td>\n",
       "      <td>프란시아</td>\n",
       "      <td>15</td>\n",
       "    </tr>\n",
       "    <tr>\n",
       "      <th>2</th>\n",
       "      <td>2</td>\n",
       "      <td>1614947</td>\n",
       "      <td>F</td>\n",
       "      <td>50</td>\n",
       "      <td>1</td>\n",
       "      <td>10.0</td>\n",
       "      <td>10</td>\n",
       "      <td>10</td>\n",
       "      <td>푸글리제</td>\n",
       "      <td>모짜렐라</td>\n",
       "      <td>후레쉬치즈</td>\n",
       "      <td>자연치즈</td>\n",
       "      <td>모짜렐라</td>\n",
       "      <td>5500</td>\n",
       "      <td>1</td>\n",
       "      <td>4</td>\n",
       "      <td>1</td>\n",
       "      <td>1</td>\n",
       "      <td>푸글리제</td>\n",
       "      <td>30</td>\n",
       "    </tr>\n",
       "    <tr>\n",
       "      <th>3</th>\n",
       "      <td>3</td>\n",
       "      <td>1614947</td>\n",
       "      <td>F</td>\n",
       "      <td>50</td>\n",
       "      <td>1</td>\n",
       "      <td>10.0</td>\n",
       "      <td>10</td>\n",
       "      <td>10</td>\n",
       "      <td>푸글리제</td>\n",
       "      <td>모짜렐라</td>\n",
       "      <td>후레쉬치즈</td>\n",
       "      <td>자연치즈</td>\n",
       "      <td>모짜렐라</td>\n",
       "      <td>5500</td>\n",
       "      <td>1</td>\n",
       "      <td>4</td>\n",
       "      <td>1</td>\n",
       "      <td>1</td>\n",
       "      <td>푸글리제</td>\n",
       "      <td>30</td>\n",
       "    </tr>\n",
       "    <tr>\n",
       "      <th>4</th>\n",
       "      <td>4</td>\n",
       "      <td>1614947</td>\n",
       "      <td>F</td>\n",
       "      <td>50</td>\n",
       "      <td>5</td>\n",
       "      <td>14.0</td>\n",
       "      <td>15</td>\n",
       "      <td>14</td>\n",
       "      <td>콜롬보</td>\n",
       "      <td>모짜렐라</td>\n",
       "      <td>후레쉬치즈</td>\n",
       "      <td>자연치즈</td>\n",
       "      <td>모짜렐라</td>\n",
       "      <td>4900</td>\n",
       "      <td>1</td>\n",
       "      <td>4</td>\n",
       "      <td>1</td>\n",
       "      <td>1</td>\n",
       "      <td>콜롬보</td>\n",
       "      <td>28</td>\n",
       "    </tr>\n",
       "  </tbody>\n",
       "</table>\n",
       "</div>"
      ],
      "text/plain": [
       "   user_no  user_id user_gender  user_age  buy_count  cheese_rank  \\\n",
       "0        0  2391853           M        40          1          8.0   \n",
       "1        1  1799897           F        40          1          8.0   \n",
       "2        2  1614947           F        50          1         10.0   \n",
       "3        3  1614947           F        50          1         10.0   \n",
       "4        4  1614947           F        50          5         14.0   \n",
       "\n",
       "   cheese_code cheese_id cheese_brand cheese_name cheese_texture cheese_types  \\\n",
       "0            8         8         프란시아      리코타 치즈          후레쉬치즈         자연치즈   \n",
       "1            8         8         프란시아      리코타 치즈          후레쉬치즈         자연치즈   \n",
       "2           10        10         푸글리제        모짜렐라          후레쉬치즈         자연치즈   \n",
       "3           10        10         푸글리제        모짜렐라          후레쉬치즈         자연치즈   \n",
       "4           15        14          콜롬보        모짜렐라          후레쉬치즈         자연치즈   \n",
       "\n",
       "  cheese_category  cheese_one_price  gender  age_group  cheese_category_code  \\\n",
       "0             리코타              4600       0          3                     3   \n",
       "1             리코타              4600       1          3                     3   \n",
       "2            모짜렐라              5500       1          4                     1   \n",
       "3            모짜렐라              5500       1          4                     1   \n",
       "4            모짜렐라              4900       1          4                     1   \n",
       "\n",
       "   cheese_texture_code brand  brand_code  \n",
       "0                    1  프란시아          15  \n",
       "1                    1  프란시아          15  \n",
       "2                    1  푸글리제          30  \n",
       "3                    1  푸글리제          30  \n",
       "4                    1   콜롬보          28  "
      ]
     },
     "execution_count": 4,
     "metadata": {},
     "output_type": "execute_result"
    }
   ],
   "source": [
    "users.head(5)"
   ]
  },
  {
   "cell_type": "code",
   "execution_count": null,
   "metadata": {},
   "outputs": [],
   "source": []
  },
  {
   "cell_type": "markdown",
   "metadata": {},
   "source": [
    "## 데이터 이상치 확인"
   ]
  },
  {
   "cell_type": "code",
   "execution_count": 8,
   "metadata": {},
   "outputs": [
    {
     "data": {
      "text/plain": [
       "Text(0.5, 1.0, 'gender vs buy_count')"
      ]
     },
     "execution_count": 8,
     "metadata": {},
     "output_type": "execute_result"
    },
    {
     "data": {
      "image/png": "[encoded data removed]",
      "text/plain": [
       "<Figure size 1080x576 with 2 Axes>"
      ]
     },
     "metadata": {
      "needs_background": "light"
     },
     "output_type": "display_data"
    }
   ],
   "source": [
    "import seaborn as sns\n",
    "import matplotlib.pyplot as plt\n",
    "\n",
    "f, axes = plt.subplots(ncols = 2, figsize = (15, 8))\n",
    "\n",
    "sns.boxplot(x=\"gender\", y=\"buy_count\", data = users, ax=axes[0])\n",
    "axes[0].set_title(\"gender vs buy_count\")\n",
    "\n"
   ]
  },
  {
   "cell_type": "markdown",
   "metadata": {},
   "source": [
    "## train, test 데이터 셋 만들기"
   ]
  },
  {
   "cell_type": "code",
   "execution_count": 9,
   "metadata": {},
   "outputs": [],
   "source": [
    "from sklearn.model_selection import train_test_split\n",
    "\n",
    "X_user = users[['user_age', 'gender', 'buy_count', 'cheese_rank', 'age_group', 'cheese_texture_code', 'brand_code', 'cheese_one_price']]\n",
    "y_user = users[['cheese_category_code']]\n",
    "\n",
    "X_user_train, X_user_test, y_user_train, y_user_test = train_test_split(X_user, y_user, test_size = 0.3, random_state = 32)"
   ]
  },
  {
   "cell_type": "code",
   "execution_count": 10,
   "metadata": {},
   "outputs": [
    {
     "data": {
      "text/html": [
       "<div>\n",
       "<style scoped>\n",
       "    .dataframe tbody tr th:only-of-type {\n",
       "        vertical-align: middle;\n",
       "    }\n",
       "\n",
       "    .dataframe tbody tr th {\n",
       "        vertical-align: top;\n",
       "    }\n",
       "\n",
       "    .dataframe thead th {\n",
       "        text-align: right;\n",
       "    }\n",
       "</style>\n",
       "<table border=\"1\" class=\"dataframe\">\n",
       "  <thead>\n",
       "    <tr style=\"text-align: right;\">\n",
       "      <th></th>\n",
       "      <th>user_age</th>\n",
       "      <th>gender</th>\n",
       "      <th>buy_count</th>\n",
       "      <th>cheese_rank</th>\n",
       "      <th>age_group</th>\n",
       "      <th>cheese_texture_code</th>\n",
       "      <th>brand_code</th>\n",
       "      <th>cheese_one_price</th>\n",
       "    </tr>\n",
       "  </thead>\n",
       "  <tbody>\n",
       "    <tr>\n",
       "      <th>3312</th>\n",
       "      <td>30</td>\n",
       "      <td>1</td>\n",
       "      <td>2</td>\n",
       "      <td>2.0</td>\n",
       "      <td>2</td>\n",
       "      <td>1</td>\n",
       "      <td>15</td>\n",
       "      <td>3870</td>\n",
       "    </tr>\n",
       "    <tr>\n",
       "      <th>21971</th>\n",
       "      <td>30</td>\n",
       "      <td>1</td>\n",
       "      <td>2</td>\n",
       "      <td>2.0</td>\n",
       "      <td>2</td>\n",
       "      <td>1</td>\n",
       "      <td>15</td>\n",
       "      <td>3870</td>\n",
       "    </tr>\n",
       "    <tr>\n",
       "      <th>2347</th>\n",
       "      <td>50</td>\n",
       "      <td>1</td>\n",
       "      <td>1</td>\n",
       "      <td>15.0</td>\n",
       "      <td>4</td>\n",
       "      <td>1</td>\n",
       "      <td>28</td>\n",
       "      <td>6860</td>\n",
       "    </tr>\n",
       "    <tr>\n",
       "      <th>18459</th>\n",
       "      <td>40</td>\n",
       "      <td>0</td>\n",
       "      <td>3</td>\n",
       "      <td>2.0</td>\n",
       "      <td>3</td>\n",
       "      <td>1</td>\n",
       "      <td>15</td>\n",
       "      <td>3870</td>\n",
       "    </tr>\n",
       "    <tr>\n",
       "      <th>8768</th>\n",
       "      <td>40</td>\n",
       "      <td>1</td>\n",
       "      <td>1</td>\n",
       "      <td>17.0</td>\n",
       "      <td>3</td>\n",
       "      <td>1</td>\n",
       "      <td>15</td>\n",
       "      <td>6240</td>\n",
       "    </tr>\n",
       "  </tbody>\n",
       "</table>\n",
       "</div>"
      ],
      "text/plain": [
       "       user_age  gender  buy_count  cheese_rank  age_group  \\\n",
       "3312         30       1          2          2.0          2   \n",
       "21971        30       1          2          2.0          2   \n",
       "2347         50       1          1         15.0          4   \n",
       "18459        40       0          3          2.0          3   \n",
       "8768         40       1          1         17.0          3   \n",
       "\n",
       "       cheese_texture_code  brand_code  cheese_one_price  \n",
       "3312                     1          15              3870  \n",
       "21971                    1          15              3870  \n",
       "2347                     1          28              6860  \n",
       "18459                    1          15              3870  \n",
       "8768                     1          15              6240  "
      ]
     },
     "execution_count": 10,
     "metadata": {},
     "output_type": "execute_result"
    }
   ],
   "source": [
    "X_user_train.head(5)"
   ]
  },
  {
   "cell_type": "code",
   "execution_count": 11,
   "metadata": {},
   "outputs": [
    {
     "data": {
      "text/html": [
       "<div>\n",
       "<style scoped>\n",
       "    .dataframe tbody tr th:only-of-type {\n",
       "        vertical-align: middle;\n",
       "    }\n",
       "\n",
       "    .dataframe tbody tr th {\n",
       "        vertical-align: top;\n",
       "    }\n",
       "\n",
       "    .dataframe thead th {\n",
       "        text-align: right;\n",
       "    }\n",
       "</style>\n",
       "<table border=\"1\" class=\"dataframe\">\n",
       "  <thead>\n",
       "    <tr style=\"text-align: right;\">\n",
       "      <th></th>\n",
       "      <th>cheese_category_code</th>\n",
       "    </tr>\n",
       "  </thead>\n",
       "  <tbody>\n",
       "    <tr>\n",
       "      <th>3312</th>\n",
       "      <td>1</td>\n",
       "    </tr>\n",
       "    <tr>\n",
       "      <th>21971</th>\n",
       "      <td>1</td>\n",
       "    </tr>\n",
       "    <tr>\n",
       "      <th>2347</th>\n",
       "      <td>3</td>\n",
       "    </tr>\n",
       "    <tr>\n",
       "      <th>18459</th>\n",
       "      <td>1</td>\n",
       "    </tr>\n",
       "    <tr>\n",
       "      <th>8768</th>\n",
       "      <td>1</td>\n",
       "    </tr>\n",
       "  </tbody>\n",
       "</table>\n",
       "</div>"
      ],
      "text/plain": [
       "       cheese_category_code\n",
       "3312                      1\n",
       "21971                     1\n",
       "2347                      3\n",
       "18459                     1\n",
       "8768                      1"
      ]
     },
     "execution_count": 11,
     "metadata": {},
     "output_type": "execute_result"
    }
   ],
   "source": [
    "y_user_train.head(5)"
   ]
  },
  {
   "cell_type": "code",
   "execution_count": null,
   "metadata": {},
   "outputs": [],
   "source": []
  },
  {
   "cell_type": "markdown",
   "metadata": {},
   "source": [
    "## 히스토그램"
   ]
  },
  {
   "cell_type": "code",
   "execution_count": 8,
   "metadata": {},
   "outputs": [
    {
     "data": {
      "text/plain": [
       "<AxesSubplot:xlabel='brand_code'>"
      ]
     },
     "execution_count": 8,
     "metadata": {},
     "output_type": "execute_result"
    },
    {
     "data": {
      "image/png": "[encoded data removed]",
      "text/plain": [
       "<Figure size 504x504 with 4 Axes>"
      ]
     },
     "metadata": {
      "needs_background": "light"
     },
     "output_type": "display_data"
    }
   ],
   "source": [
    "import matplotlib.pyplot as plt\n",
    "import seaborn as sns\n",
    "\n",
    "f, axes = plt.subplots(2, 2, figsize=(7,7), sharex=True)\n",
    "sns.distplot(users[\"user_age\"], color=\"red\", ax=axes[0,0])\n",
    "sns.distplot(users[\"cheese_code\"], color=\"orange\", ax=axes[0,1])\n",
    "sns.distplot(users[\"cheese_category_code\"], color = \"yellow\", ax=axes[1,0])\n",
    "sns.distplot(users[\"brand_code\"], color = \"green\", ax=axes[1,1])\n",
    "# sns.distplot(user_data[\"cheese_texture_code\"], color=\"blue\", ax=axes[0,2])\n",
    "# sns.distplot(user_data[\"cheese_one_price\"], color = \"purple\", ax=axes[1,2])"
   ]
  },
  {
   "cell_type": "code",
   "execution_count": 9,
   "metadata": {
    "scrolled": true
   },
   "outputs": [
    {
     "data": {
      "text/plain": [
       "<AxesSubplot:xlabel='cheese_one_price'>"
      ]
     },
     "execution_count": 9,
     "metadata": {},
     "output_type": "execute_result"
    },
    {
     "data": {
      "image/png": "[encoded data removed]",
      "text/plain": [
       "<Figure size 504x504 with 4 Axes>"
      ]
     },
     "metadata": {
      "needs_background": "light"
     },
     "output_type": "display_data"
    }
   ],
   "source": [
    "import matplotlib.pyplot as plt\n",
    "import seaborn as sns\n",
    "\n",
    "f, axes = plt.subplots(2, 2, figsize=(7,7), sharex=True)\n",
    "sns.distplot(X_user_train[\"user_age\"], color=\"red\", ax=axes[0,0])\n",
    "sns.distplot(X_user_train[\"brand_code\"], color = \"green\", ax=axes[0,1])\n",
    "sns.distplot(X_user_train[\"cheese_texture_code\"], color=\"blue\", ax=axes[1,0])\n",
    "sns.distplot(X_user_train[\"cheese_one_price\"], color = \"purple\", ax=axes[1,1])"
   ]
  },
  {
   "cell_type": "code",
   "execution_count": null,
   "metadata": {},
   "outputs": [],
   "source": []
  },
  {
   "cell_type": "markdown",
   "metadata": {},
   "source": [
    "## 데이터 변환"
   ]
  },
  {
   "cell_type": "code",
   "execution_count": 10,
   "metadata": {},
   "outputs": [
    {
     "data": {
      "text/plain": [
       "<AxesSubplot:xlabel='log_cheese_code'>"
      ]
     },
     "execution_count": 10,
     "metadata": {},
     "output_type": "execute_result"
    },
    {
     "data": {
      "image/png": "[encoded data removed]",
      "text/plain": [
       "<Figure size 432x288 with 1 Axes>"
      ]
     },
     "metadata": {
      "needs_background": "light"
     },
     "output_type": "display_data"
    }
   ],
   "source": [
    "import numpy as np\n",
    "import seaborn as sns\n",
    "\n",
    "users['log_cheese_code'] = np.log1p(users['cheese_code'])\n",
    "\n",
    "# f, ax = plt.subplots(1, 2, figsize = (10, 6),  sharex=True)\n",
    "\n",
    "# sns.distplot(user_data['cheese_code'], ax=axes[0,0])\n",
    "# sns.distplot(user_data['log_cheese_code'], ax=axes[0,1])\n",
    "\n",
    "# sns.distplot(user_data['cheese_code'])\n",
    "sns.distplot(users['log_cheese_code'])"
   ]
  },
  {
   "cell_type": "code",
   "execution_count": null,
   "metadata": {},
   "outputs": [],
   "source": []
  },
  {
   "cell_type": "code",
   "execution_count": null,
   "metadata": {},
   "outputs": [],
   "source": []
  },
  {
   "cell_type": "markdown",
   "metadata": {},
   "source": [
    "## 변수 간 상관성 보기"
   ]
  },
  {
   "cell_type": "code",
   "execution_count": null,
   "metadata": {},
   "outputs": [],
   "source": []
  },
  {
   "cell_type": "code",
   "execution_count": 11,
   "metadata": {},
   "outputs": [
    {
     "data": {
      "image/png": "[encoded data removed]",
      "text/plain": [
       "<Figure size 720x720 with 4 Axes>"
      ]
     },
     "metadata": {
      "needs_background": "light"
     },
     "output_type": "display_data"
    }
   ],
   "source": [
    "import matplotlib.pyplot as plt\n",
    "import matplotlib.font_manager as fm\n",
    "import seaborn as sns\n",
    "\n",
    "def make_corr(data):\n",
    "    make_corr = data.corr()\n",
    "    sns.clustermap(make_corr, annot = True, cmap = 'RdYlBu_r', linewidths=.5, cbar_kws={\"shrink\": .5}, vmin = -1, vmax = 1)\n",
    "    plt.show()\n",
    "    \n",
    "    \n",
    "make_corr(users)"
   ]
  },
  {
   "cell_type": "code",
   "execution_count": null,
   "metadata": {},
   "outputs": [],
   "source": []
  },
  {
   "cell_type": "markdown",
   "metadata": {},
   "source": [
    "## 정규화하기"
   ]
  },
  {
   "cell_type": "code",
   "execution_count": 12,
   "metadata": {},
   "outputs": [],
   "source": [
    "from sklearn.preprocessing import MinMaxScaler\n",
    "\n",
    "min_max_scaler = MinMaxScaler()\n",
    "x_scaled = min_max_scaler.fit_transform(X_user)\n",
    "X_user = pd.DataFrame(x_scaled, columns = X_user.columns)"
   ]
  },
  {
   "cell_type": "code",
   "execution_count": 13,
   "metadata": {},
   "outputs": [
    {
     "data": {
      "text/html": [
       "<div>\n",
       "<style scoped>\n",
       "    .dataframe tbody tr th:only-of-type {\n",
       "        vertical-align: middle;\n",
       "    }\n",
       "\n",
       "    .dataframe tbody tr th {\n",
       "        vertical-align: top;\n",
       "    }\n",
       "\n",
       "    .dataframe thead th {\n",
       "        text-align: right;\n",
       "    }\n",
       "</style>\n",
       "<table border=\"1\" class=\"dataframe\">\n",
       "  <thead>\n",
       "    <tr style=\"text-align: right;\">\n",
       "      <th></th>\n",
       "      <th>user_age</th>\n",
       "      <th>gender</th>\n",
       "      <th>buy_count</th>\n",
       "      <th>cheese_rank</th>\n",
       "      <th>age_group</th>\n",
       "      <th>cheese_texture_code</th>\n",
       "      <th>brand_code</th>\n",
       "      <th>cheese_one_price</th>\n",
       "    </tr>\n",
       "  </thead>\n",
       "  <tbody>\n",
       "    <tr>\n",
       "      <th>0</th>\n",
       "      <td>0.428571</td>\n",
       "      <td>0.0</td>\n",
       "      <td>0.000000</td>\n",
       "      <td>0.102941</td>\n",
       "      <td>0.50</td>\n",
       "      <td>0.0</td>\n",
       "      <td>0.341463</td>\n",
       "      <td>0.060682</td>\n",
       "    </tr>\n",
       "    <tr>\n",
       "      <th>1</th>\n",
       "      <td>0.428571</td>\n",
       "      <td>1.0</td>\n",
       "      <td>0.000000</td>\n",
       "      <td>0.102941</td>\n",
       "      <td>0.50</td>\n",
       "      <td>0.0</td>\n",
       "      <td>0.341463</td>\n",
       "      <td>0.060682</td>\n",
       "    </tr>\n",
       "    <tr>\n",
       "      <th>2</th>\n",
       "      <td>0.571429</td>\n",
       "      <td>1.0</td>\n",
       "      <td>0.000000</td>\n",
       "      <td>0.132353</td>\n",
       "      <td>0.75</td>\n",
       "      <td>0.0</td>\n",
       "      <td>0.707317</td>\n",
       "      <td>0.135495</td>\n",
       "    </tr>\n",
       "    <tr>\n",
       "      <th>3</th>\n",
       "      <td>0.571429</td>\n",
       "      <td>1.0</td>\n",
       "      <td>0.000000</td>\n",
       "      <td>0.132353</td>\n",
       "      <td>0.75</td>\n",
       "      <td>0.0</td>\n",
       "      <td>0.707317</td>\n",
       "      <td>0.135495</td>\n",
       "    </tr>\n",
       "    <tr>\n",
       "      <th>4</th>\n",
       "      <td>0.571429</td>\n",
       "      <td>1.0</td>\n",
       "      <td>0.025157</td>\n",
       "      <td>0.191176</td>\n",
       "      <td>0.75</td>\n",
       "      <td>0.0</td>\n",
       "      <td>0.658537</td>\n",
       "      <td>0.085619</td>\n",
       "    </tr>\n",
       "  </tbody>\n",
       "</table>\n",
       "</div>"
      ],
      "text/plain": [
       "   user_age  gender  buy_count  cheese_rank  age_group  cheese_texture_code  \\\n",
       "0  0.428571     0.0   0.000000     0.102941       0.50                  0.0   \n",
       "1  0.428571     1.0   0.000000     0.102941       0.50                  0.0   \n",
       "2  0.571429     1.0   0.000000     0.132353       0.75                  0.0   \n",
       "3  0.571429     1.0   0.000000     0.132353       0.75                  0.0   \n",
       "4  0.571429     1.0   0.025157     0.191176       0.75                  0.0   \n",
       "\n",
       "   brand_code  cheese_one_price  \n",
       "0    0.341463          0.060682  \n",
       "1    0.341463          0.060682  \n",
       "2    0.707317          0.135495  \n",
       "3    0.707317          0.135495  \n",
       "4    0.658537          0.085619  "
      ]
     },
     "execution_count": 13,
     "metadata": {},
     "output_type": "execute_result"
    }
   ],
   "source": [
    "X_user.head(5)"
   ]
  },
  {
   "cell_type": "code",
   "execution_count": 14,
   "metadata": {},
   "outputs": [
    {
     "data": {
      "image/png": "[encoded data removed]",
      "text/plain": [
       "<Figure size 720x720 with 4 Axes>"
      ]
     },
     "metadata": {
      "needs_background": "light"
     },
     "output_type": "display_data"
    }
   ],
   "source": [
    "make_corr(X_user)"
   ]
  },
  {
   "cell_type": "code",
   "execution_count": 15,
   "metadata": {
    "scrolled": true
   },
   "outputs": [
    {
     "data": {
      "text/plain": [
       "array([[<AxesSubplot:xlabel='cheese_category_code', ylabel='cheese_category_code'>,\n",
       "        <AxesSubplot:xlabel='user_age', ylabel='cheese_category_code'>,\n",
       "        <AxesSubplot:xlabel='gender', ylabel='cheese_category_code'>,\n",
       "        <AxesSubplot:xlabel='buy_count', ylabel='cheese_category_code'>,\n",
       "        <AxesSubplot:xlabel='cheese_rank', ylabel='cheese_category_code'>,\n",
       "        <AxesSubplot:xlabel='age_group', ylabel='cheese_category_code'>,\n",
       "        <AxesSubplot:xlabel='cheese_texture_code', ylabel='cheese_category_code'>,\n",
       "        <AxesSubplot:xlabel='brand_code', ylabel='cheese_category_code'>,\n",
       "        <AxesSubplot:xlabel='cheese_one_price', ylabel='cheese_category_code'>],\n",
       "       [<AxesSubplot:xlabel='cheese_category_code', ylabel='user_age'>,\n",
       "        <AxesSubplot:xlabel='user_age', ylabel='user_age'>,\n",
       "        <AxesSubplot:xlabel='gender', ylabel='user_age'>,\n",
       "        <AxesSubplot:xlabel='buy_count', ylabel='user_age'>,\n",
       "        <AxesSubplot:xlabel='cheese_rank', ylabel='user_age'>,\n",
       "        <AxesSubplot:xlabel='age_group', ylabel='user_age'>,\n",
       "        <AxesSubplot:xlabel='cheese_texture_code', ylabel='user_age'>,\n",
       "        <AxesSubplot:xlabel='brand_code', ylabel='user_age'>,\n",
       "        <AxesSubplot:xlabel='cheese_one_price', ylabel='user_age'>],\n",
       "       [<AxesSubplot:xlabel='cheese_category_code', ylabel='gender'>,\n",
       "        <AxesSubplot:xlabel='user_age', ylabel='gender'>,\n",
       "        <AxesSubplot:xlabel='gender', ylabel='gender'>,\n",
       "        <AxesSubplot:xlabel='buy_count', ylabel='gender'>,\n",
       "        <AxesSubplot:xlabel='cheese_rank', ylabel='gender'>,\n",
       "        <AxesSubplot:xlabel='age_group', ylabel='gender'>,\n",
       "        <AxesSubplot:xlabel='cheese_texture_code', ylabel='gender'>,\n",
       "        <AxesSubplot:xlabel='brand_code', ylabel='gender'>,\n",
       "        <AxesSubplot:xlabel='cheese_one_price', ylabel='gender'>],\n",
       "       [<AxesSubplot:xlabel='cheese_category_code', ylabel='buy_count'>,\n",
       "        <AxesSubplot:xlabel='user_age', ylabel='buy_count'>,\n",
       "        <AxesSubplot:xlabel='gender', ylabel='buy_count'>,\n",
       "        <AxesSubplot:xlabel='buy_count', ylabel='buy_count'>,\n",
       "        <AxesSubplot:xlabel='cheese_rank', ylabel='buy_count'>,\n",
       "        <AxesSubplot:xlabel='age_group', ylabel='buy_count'>,\n",
       "        <AxesSubplot:xlabel='cheese_texture_code', ylabel='buy_count'>,\n",
       "        <AxesSubplot:xlabel='brand_code', ylabel='buy_count'>,\n",
       "        <AxesSubplot:xlabel='cheese_one_price', ylabel='buy_count'>],\n",
       "       [<AxesSubplot:xlabel='cheese_category_code', ylabel='cheese_rank'>,\n",
       "        <AxesSubplot:xlabel='user_age', ylabel='cheese_rank'>,\n",
       "        <AxesSubplot:xlabel='gender', ylabel='cheese_rank'>,\n",
       "        <AxesSubplot:xlabel='buy_count', ylabel='cheese_rank'>,\n",
       "        <AxesSubplot:xlabel='cheese_rank', ylabel='cheese_rank'>,\n",
       "        <AxesSubplot:xlabel='age_group', ylabel='cheese_rank'>,\n",
       "        <AxesSubplot:xlabel='cheese_texture_code', ylabel='cheese_rank'>,\n",
       "        <AxesSubplot:xlabel='brand_code', ylabel='cheese_rank'>,\n",
       "        <AxesSubplot:xlabel='cheese_one_price', ylabel='cheese_rank'>],\n",
       "       [<AxesSubplot:xlabel='cheese_category_code', ylabel='age_group'>,\n",
       "        <AxesSubplot:xlabel='user_age', ylabel='age_group'>,\n",
       "        <AxesSubplot:xlabel='gender', ylabel='age_group'>,\n",
       "        <AxesSubplot:xlabel='buy_count', ylabel='age_group'>,\n",
       "        <AxesSubplot:xlabel='cheese_rank', ylabel='age_group'>,\n",
       "        <AxesSubplot:xlabel='age_group', ylabel='age_group'>,\n",
       "        <AxesSubplot:xlabel='cheese_texture_code', ylabel='age_group'>,\n",
       "        <AxesSubplot:xlabel='brand_code', ylabel='age_group'>,\n",
       "        <AxesSubplot:xlabel='cheese_one_price', ylabel='age_group'>],\n",
       "       [<AxesSubplot:xlabel='cheese_category_code', ylabel='cheese_texture_code'>,\n",
       "        <AxesSubplot:xlabel='user_age', ylabel='cheese_texture_code'>,\n",
       "        <AxesSubplot:xlabel='gender', ylabel='cheese_texture_code'>,\n",
       "        <AxesSubplot:xlabel='buy_count', ylabel='cheese_texture_code'>,\n",
       "        <AxesSubplot:xlabel='cheese_rank', ylabel='cheese_texture_code'>,\n",
       "        <AxesSubplot:xlabel='age_group', ylabel='cheese_texture_code'>,\n",
       "        <AxesSubplot:xlabel='cheese_texture_code', ylabel='cheese_texture_code'>,\n",
       "        <AxesSubplot:xlabel='brand_code', ylabel='cheese_texture_code'>,\n",
       "        <AxesSubplot:xlabel='cheese_one_price', ylabel='cheese_texture_code'>],\n",
       "       [<AxesSubplot:xlabel='cheese_category_code', ylabel='brand_code'>,\n",
       "        <AxesSubplot:xlabel='user_age', ylabel='brand_code'>,\n",
       "        <AxesSubplot:xlabel='gender', ylabel='brand_code'>,\n",
       "        <AxesSubplot:xlabel='buy_count', ylabel='brand_code'>,\n",
       "        <AxesSubplot:xlabel='cheese_rank', ylabel='brand_code'>,\n",
       "        <AxesSubplot:xlabel='age_group', ylabel='brand_code'>,\n",
       "        <AxesSubplot:xlabel='cheese_texture_code', ylabel='brand_code'>,\n",
       "        <AxesSubplot:xlabel='brand_code', ylabel='brand_code'>,\n",
       "        <AxesSubplot:xlabel='cheese_one_price', ylabel='brand_code'>],\n",
       "       [<AxesSubplot:xlabel='cheese_category_code', ylabel='cheese_one_price'>,\n",
       "        <AxesSubplot:xlabel='user_age', ylabel='cheese_one_price'>,\n",
       "        <AxesSubplot:xlabel='gender', ylabel='cheese_one_price'>,\n",
       "        <AxesSubplot:xlabel='buy_count', ylabel='cheese_one_price'>,\n",
       "        <AxesSubplot:xlabel='cheese_rank', ylabel='cheese_one_price'>,\n",
       "        <AxesSubplot:xlabel='age_group', ylabel='cheese_one_price'>,\n",
       "        <AxesSubplot:xlabel='cheese_texture_code', ylabel='cheese_one_price'>,\n",
       "        <AxesSubplot:xlabel='brand_code', ylabel='cheese_one_price'>,\n",
       "        <AxesSubplot:xlabel='cheese_one_price', ylabel='cheese_one_price'>]],\n",
       "      dtype=object)"
      ]
     },
     "execution_count": 15,
     "metadata": {},
     "output_type": "execute_result"
    },
    {
     "data": {
      "image/png": "[encoded data removed]",
      "text/plain": [
       "<Figure size 864x576 with 81 Axes>"
      ]
     },
     "metadata": {
      "needs_background": "light"
     },
     "output_type": "display_data"
    }
   ],
   "source": [
    "from pandas.plotting import scatter_matrix\n",
    "\n",
    "attributes = ['cheese_category_code', 'user_age', 'gender', 'buy_count', 'cheese_rank', 'age_group', 'cheese_texture_code', 'brand_code', 'cheese_one_price']\n",
    "scatter_matrix(users[attributes], figsize=(12, 8))\n"
   ]
  },
  {
   "cell_type": "markdown",
   "metadata": {},
   "source": [
    "### 산점도로 카테고리 확인"
   ]
  },
  {
   "cell_type": "code",
   "execution_count": 16,
   "metadata": {},
   "outputs": [],
   "source": [
    "# import matplotlib.pyplot as plt\n",
    "# import numpy as np\n",
    "\n",
    "# scatter = plt.scatter()"
   ]
  },
  {
   "cell_type": "markdown",
   "metadata": {},
   "source": [
    "### 모델링 선택하기"
   ]
  },
  {
   "cell_type": "code",
   "execution_count": 17,
   "metadata": {},
   "outputs": [],
   "source": [
    "# class UserModel:\n",
    "#     def __init__(self):\n",
    "#         self.odf = None\n",
    "#     @staticmethod\n",
    "#     def create_k_fold():\n",
    "#         return KFold(n_splits = 10, shuffle = True, random_state = 0)\n",
    "\n",
    "#     def accuracy_by_dtree():\n",
    "#         dtree = DecisionTreeClassifier()\n",
    "#         score = cross_val_score(dtree, X_user_train, y_user_train, cv =UserModel.create_k_fold(), \\\n",
    "#                 n_jobs = 1, scoring = 'accuracy')\n",
    "#         return round(np.mean(score) * 100, 2)\n",
    "\n",
    "#     def accuracy_by_rforest():\n",
    "#         rforest = RandomForestClassifier()\n",
    "#         score = cross_val_score(rforest, X_user_train, y_user_train, cv = UserModel.create_k_fold(), \\\n",
    "#                 n_jobs = 1, scoring = 'accuracy')\n",
    "#         return round(np.mean(score) * 100, 2)\n",
    "\n",
    "#     def accuracy_by_knn():\n",
    "#         knn = KNeighborsClassifier()\n",
    "#         score = cross_val_score(knn, X_user_train , y_user_train, cv = UserModel.create_k_fold(), \\\n",
    "#                 n_jobs = 1, scoring = 'accuracy')\n",
    "#         return round(np.mean(score) * 100, 2)\n",
    "\n",
    "#     def accuracy_by_svm():\n",
    "#         svm = SVC()\n",
    "#         score = cross_val_score(svm, X_user_train, y_user_train, cv = UserModel.create_k_fold(), \\\n",
    "#                 n_jobs = 1, scoring = 'accuracy')\n",
    "#         return round(np.mean(score) * 100, 2)\n",
    "    \n",
    "    \n",
    "#     def modeling():\n",
    "#         this = self.new(train, test)\n",
    "#         this.label = self.create_label(this)\n",
    "#         this.train = self.create_train(this)\n",
    "#         print(f'>> Train 변수 : {this.train.columns}')\n",
    "#         print(f'>> Test 변수 : {this.train.columns}')\n",
    "#         return this\n",
    "\n",
    "#     def learning(self, train, test):\n",
    "#         service = self.service\n",
    "#         this = self.modeling(train,test)\n",
    "#         print(f'Dtree verification result: {service.accuracy_by_dtree(this)}')\n",
    "#         print(f'RForest verification result: {service.accuracy_by_rforest(this)}')\n",
    "#         print(f'Naive Bayes tree verification result: {service.accuracy_by_nb(this)}')\n",
    "#         print(f'KNN verification result: {service.accuracy_by_knn(this)}')\n",
    "#         print(f'SVM verification result: {service.accuracy_by_svm(this)}')"
   ]
  },
  {
   "cell_type": "code",
   "execution_count": null,
   "metadata": {},
   "outputs": [],
   "source": []
  },
  {
   "cell_type": "markdown",
   "metadata": {},
   "source": [
    "### 샘플링"
   ]
  },
  {
   "cell_type": "code",
   "execution_count": 18,
   "metadata": {},
   "outputs": [],
   "source": [
    "X_user_train_sample = X_user_train.sample(n = 1000, random_state = None)\n",
    "X_user_test_sample = X_user_test.sample(n = 1000, random_state = None)\n",
    "y_user_train_sample = y_user_train.sample(n = 1000, random_state = None)\n",
    "y_user_test_sample = y_user_test.sample(n = 1000, random_state = None)"
   ]
  },
  {
   "cell_type": "code",
   "execution_count": 19,
   "metadata": {},
   "outputs": [
    {
     "data": {
      "text/html": [
       "<div>\n",
       "<style scoped>\n",
       "    .dataframe tbody tr th:only-of-type {\n",
       "        vertical-align: middle;\n",
       "    }\n",
       "\n",
       "    .dataframe tbody tr th {\n",
       "        vertical-align: top;\n",
       "    }\n",
       "\n",
       "    .dataframe thead th {\n",
       "        text-align: right;\n",
       "    }\n",
       "</style>\n",
       "<table border=\"1\" class=\"dataframe\">\n",
       "  <thead>\n",
       "    <tr style=\"text-align: right;\">\n",
       "      <th></th>\n",
       "      <th>user_age</th>\n",
       "      <th>gender</th>\n",
       "      <th>buy_count</th>\n",
       "      <th>cheese_rank</th>\n",
       "      <th>age_group</th>\n",
       "      <th>cheese_texture_code</th>\n",
       "      <th>brand_code</th>\n",
       "      <th>cheese_one_price</th>\n",
       "    </tr>\n",
       "  </thead>\n",
       "  <tbody>\n",
       "    <tr>\n",
       "      <th>3312</th>\n",
       "      <td>30</td>\n",
       "      <td>1</td>\n",
       "      <td>2</td>\n",
       "      <td>2.0</td>\n",
       "      <td>2</td>\n",
       "      <td>1</td>\n",
       "      <td>15</td>\n",
       "      <td>3870</td>\n",
       "    </tr>\n",
       "    <tr>\n",
       "      <th>21971</th>\n",
       "      <td>30</td>\n",
       "      <td>1</td>\n",
       "      <td>2</td>\n",
       "      <td>2.0</td>\n",
       "      <td>2</td>\n",
       "      <td>1</td>\n",
       "      <td>15</td>\n",
       "      <td>3870</td>\n",
       "    </tr>\n",
       "    <tr>\n",
       "      <th>2347</th>\n",
       "      <td>50</td>\n",
       "      <td>1</td>\n",
       "      <td>1</td>\n",
       "      <td>15.0</td>\n",
       "      <td>4</td>\n",
       "      <td>1</td>\n",
       "      <td>28</td>\n",
       "      <td>6860</td>\n",
       "    </tr>\n",
       "  </tbody>\n",
       "</table>\n",
       "</div>"
      ],
      "text/plain": [
       "       user_age  gender  buy_count  cheese_rank  age_group  \\\n",
       "3312         30       1          2          2.0          2   \n",
       "21971        30       1          2          2.0          2   \n",
       "2347         50       1          1         15.0          4   \n",
       "\n",
       "       cheese_texture_code  brand_code  cheese_one_price  \n",
       "3312                     1          15              3870  \n",
       "21971                    1          15              3870  \n",
       "2347                     1          28              6860  "
      ]
     },
     "execution_count": 19,
     "metadata": {},
     "output_type": "execute_result"
    }
   ],
   "source": [
    "X_user_train.head(3)"
   ]
  },
  {
   "cell_type": "markdown",
   "metadata": {},
   "source": [
    "### 표준화 (standardScaler)"
   ]
  },
  {
   "cell_type": "code",
   "execution_count": 12,
   "metadata": {},
   "outputs": [
    {
     "name": "stdout",
     "output_type": "stream",
     "text": [
      "[[-0.58733941  0.42761125 -0.01216164 ... -0.48303349 -0.48402246\n",
      "  -0.85734486]\n",
      " [-0.58733941  0.42761125 -0.01216164 ... -0.48303349 -0.48402246\n",
      "  -0.85734486]\n",
      " [ 1.74261025  0.42761125 -0.26129191 ... -0.48303349  0.73833953\n",
      "  -0.07477204]\n",
      " ...\n",
      " [-0.58733941  0.42761125  0.23696863 ...  0.57380955  1.96070152\n",
      "  -0.43072489]\n",
      " [-0.58733941  0.42761125 -0.26129191 ... -0.48303349 -1.04818953\n",
      "   0.64236827]\n",
      " [ 1.74261025  0.42761125 -0.26129191 ...  0.57380955  1.96070152\n",
      "  -0.43072489]]\n"
     ]
    }
   ],
   "source": [
    "# std 바꿔서 fitting\n",
    "\n",
    "import sklearn.svm as svm\n",
    "import sklearn.metrics as mt\n",
    "from sklearn.model_selection import cross_val_score, cross_validate\n",
    "from sklearn.preprocessing import StandardScaler\n",
    "\n",
    "# 표준화\n",
    "std = StandardScaler()\n",
    "# std.fit(X_train)\n",
    "\n",
    "X_user_train_std = std.fit_transform(X_user_train)\n",
    "X_user_test_std = std.transform(X_user_test)\n",
    "print(X_user_train_std)\n"
   ]
  },
  {
   "cell_type": "code",
   "execution_count": 21,
   "metadata": {},
   "outputs": [],
   "source": [
    "# # std 바꿔서 fitting\n",
    "\n",
    "# import sklearn.svm as svm\n",
    "# import sklearn.metrics as mt\n",
    "# from sklearn.model_selection import cross_val_score, cross_validate\n",
    "# from sklearn.preprocessing import StandardScaler\n",
    "\n",
    "# # 표준화\n",
    "# std = StandardScaler()\n",
    "# # std.fit(X_train)\n",
    "\n",
    "# X_user_train_sample_std = std.fit_transform(X_user_train_sample)\n",
    "# X_user_test_sample_std = std.transform(X_user_test_sample)\n",
    "# print(X_user_train_sample_std)\n"
   ]
  },
  {
   "cell_type": "markdown",
   "metadata": {},
   "source": [
    "### 정규화 "
   ]
  },
  {
   "cell_type": "code",
   "execution_count": 13,
   "metadata": {},
   "outputs": [
    {
     "name": "stdout",
     "output_type": "stream",
     "text": [
      "[[0.33333333 1.         0.00840336 ... 0.         0.34146341 0.        ]\n",
      " [0.33333333 1.         0.00840336 ... 0.         0.34146341 0.        ]\n",
      " [0.66666667 1.         0.         ... 0.         0.65853659 0.2485453 ]\n",
      " ...\n",
      " [0.33333333 1.         0.01680672 ... 0.2        0.97560976 0.1354946 ]\n",
      " [0.33333333 1.         0.         ... 0.         0.19512195 0.47630923]\n",
      " [0.66666667 1.         0.         ... 0.2        0.97560976 0.1354946 ]]\n"
     ]
    }
   ],
   "source": [
    "from sklearn.preprocessing import MinMaxScaler\n",
    "\n",
    "ns = MinMaxScaler()\n",
    "ns.fit(X_user_train)\n",
    "\n",
    "X_user_train_ns = ns.transform(X_user_train)\n",
    "X_user_test_ns = ns.transform(X_user_test)\n",
    "print(X_user_train_ns)"
   ]
  },
  {
   "cell_type": "code",
   "execution_count": 23,
   "metadata": {},
   "outputs": [],
   "source": [
    "# from sklearn.preprocessing import MinMaxScaler\n",
    "\n",
    "# ns = MinMaxScaler()\n",
    "# ns.fit(X_user_train_sample)\n",
    "\n",
    "# X_user_train_sample_ns = ns.transform(X_user_train_sample)\n",
    "# X_user_test_sample_ns = ns.transform(X_user_test_sample)\n",
    "# print(X_user_train_sample_ns)"
   ]
  },
  {
   "cell_type": "code",
   "execution_count": null,
   "metadata": {},
   "outputs": [],
   "source": []
  },
  {
   "cell_type": "markdown",
   "metadata": {},
   "source": [
    "### 정규화한 X, y 데이터 상관관계"
   ]
  },
  {
   "cell_type": "code",
   "execution_count": 24,
   "metadata": {},
   "outputs": [],
   "source": [
    "Xy_user = users[['cheese_category_code','user_age', 'gender', 'buy_count', 'cheese_rank', 'cheese_texture_code', 'brand_code', 'cheese_one_price']]"
   ]
  },
  {
   "cell_type": "code",
   "execution_count": 25,
   "metadata": {},
   "outputs": [
    {
     "data": {
      "image/png": "[encoded data removed]",
      "text/plain": [
       "<Figure size 720x720 with 4 Axes>"
      ]
     },
     "metadata": {
      "needs_background": "light"
     },
     "output_type": "display_data"
    }
   ],
   "source": [
    "import matplotlib.pyplot as plt\n",
    "import matplotlib.font_manager as fm\n",
    "import seaborn as sns\n",
    "\n",
    "def make_corr(data):\n",
    "    make_corr = data.corr()\n",
    "    sns.clustermap(make_corr, annot = True, cmap = 'RdYlBu_r', linewidths=.5, cbar_kws={\"shrink\": .5}, vmin = -1, vmax = 1)\n",
    "    plt.show()\n",
    "    \n",
    "    \n",
    "make_corr(Xy_user)"
   ]
  },
  {
   "cell_type": "markdown",
   "metadata": {},
   "source": [
    "### Random Forest"
   ]
  },
  {
   "cell_type": "code",
   "execution_count": 26,
   "metadata": {},
   "outputs": [],
   "source": [
    "# from sklearn.ensemble import RandomForestClassifier\n",
    "# from sklearn import metrics\n",
    "\n",
    "# forest = RandomForestClassifier(n_estimators=100)\n",
    "# forest.fit(X_user_train, y_user_train)\n",
    "\n",
    "# # 예측\n",
    "# y_pred = forest.predict(X_user_test)\n",
    "# print(y_pred)\n",
    "# # print(list(y_test))\n",
    "\n",
    "# print('정확도 : ', metrics.accuracy_score(y_user_test, y_pred))\n",
    "\n",
    "# print(\"특성 중요도: \\n{}\".format(forest.feature_importances_))"
   ]
  },
  {
   "cell_type": "code",
   "execution_count": 27,
   "metadata": {},
   "outputs": [
    {
     "name": "stdout",
     "output_type": "stream",
     "text": [
      "정확도 :  0.407\n",
      "특성 중요도: \n",
      "[0.09000582 0.09226118 0.25630526 0.16656252 0.08306479 0.04172522\n",
      " 0.13722167 0.13285354]\n"
     ]
    },
    {
     "name": "stderr",
     "output_type": "stream",
     "text": [
      "/home/bitai/anaconda3/envs/cheese-ai/lib/python3.7/site-packages/ipykernel_launcher.py:5: DataConversionWarning: A column-vector y was passed when a 1d array was expected. Please change the shape of y to (n_samples,), for example using ravel().\n",
      "  \"\"\"\n"
     ]
    }
   ],
   "source": [
    "from sklearn.ensemble import RandomForestClassifier\n",
    "from sklearn import metrics\n",
    "\n",
    "forest = RandomForestClassifier(n_estimators=100)\n",
    "forest.fit(X_user_train_sample, y_user_train_sample)\n",
    "\n",
    "# 예측\n",
    "y_pred = forest.predict(X_user_test_sample)\n",
    "# print(y_pred)\n",
    "# print(list(y_test))\n",
    "\n",
    "print('정확도 : ', metrics.accuracy_score(y_user_test_sample, y_pred))\n",
    "\n",
    "print(\"특성 중요도: \\n{}\".format(forest.feature_importances_))"
   ]
  },
  {
   "cell_type": "code",
   "execution_count": 28,
   "metadata": {},
   "outputs": [
    {
     "name": "stderr",
     "output_type": "stream",
     "text": [
      "/home/bitai/anaconda3/envs/cheese-ai/lib/python3.7/site-packages/ipykernel_launcher.py:6: DataConversionWarning: A column-vector y was passed when a 1d array was expected. Please change the shape of y to (n_samples,), for example using ravel().\n",
      "  \n"
     ]
    },
    {
     "name": "stdout",
     "output_type": "stream",
     "text": [
      "정확도 :  0.9992768034713433\n",
      "특성 중요도: \n",
      "[0.00228118 0.00096678 0.00836221 0.35729851 0.00195378 0.17659547\n",
      " 0.17987371 0.27266836]\n"
     ]
    }
   ],
   "source": [
    "# 표준화\n",
    "from sklearn.ensemble import RandomForestClassifier\n",
    "from sklearn import metrics\n",
    "\n",
    "forest = RandomForestClassifier(n_estimators=100)\n",
    "forest.fit(X_user_train_std, y_user_train)\n",
    "\n",
    "# 예측\n",
    "y_pred = forest.predict(X_user_test_std)\n",
    "# print(y_pred)\n",
    "# print(list(y_test))\n",
    "\n",
    "print('정확도 : ', metrics.accuracy_score(y_user_test, y_pred))\n",
    "\n",
    "print(\"특성 중요도: \\n{}\".format(forest.feature_importances_))"
   ]
  },
  {
   "cell_type": "code",
   "execution_count": 29,
   "metadata": {},
   "outputs": [
    {
     "name": "stderr",
     "output_type": "stream",
     "text": [
      "/home/bitai/anaconda3/envs/cheese-ai/lib/python3.7/site-packages/ipykernel_launcher.py:7: DataConversionWarning: A column-vector y was passed when a 1d array was expected. Please change the shape of y to (n_samples,), for example using ravel().\n",
      "  import sys\n"
     ]
    },
    {
     "name": "stdout",
     "output_type": "stream",
     "text": [
      "정확도 :  0.9993672030374254\n",
      "특성 중요도: \n",
      "[0.00211191 0.00095077 0.00822612 0.35674887 0.00193259 0.17539901\n",
      " 0.18262153 0.27200921]\n"
     ]
    }
   ],
   "source": [
    "# 정규화\n",
    "# 표준화\n",
    "from sklearn.ensemble import RandomForestClassifier\n",
    "from sklearn import metrics\n",
    "\n",
    "forest = RandomForestClassifier(n_estimators=100)\n",
    "forest.fit(X_user_train_ns, y_user_train)\n",
    "\n",
    "# 예측\n",
    "y_pred = forest.predict(X_user_test_ns)\n",
    "# print(y_pred)\n",
    "# print(list(y_test))\n",
    "\n",
    "print('정확도 : ', metrics.accuracy_score(y_user_test, y_pred))\n",
    "\n",
    "print(\"특성 중요도: \\n{}\".format(forest.feature_importances_))"
   ]
  },
  {
   "cell_type": "code",
   "execution_count": null,
   "metadata": {},
   "outputs": [],
   "source": []
  },
  {
   "cell_type": "markdown",
   "metadata": {},
   "source": [
    "### SVM - 너무 느림"
   ]
  },
  {
   "cell_type": "markdown",
   "metadata": {},
   "source": [
    "#### 원본 데이터"
   ]
  },
  {
   "cell_type": "code",
   "execution_count": 30,
   "metadata": {},
   "outputs": [
    {
     "name": "stderr",
     "output_type": "stream",
     "text": [
      "/home/bitai/anaconda3/envs/cheese-ai/lib/python3.7/site-packages/sklearn/utils/validation.py:72: DataConversionWarning: A column-vector y was passed when a 1d array was expected. Please change the shape of y to (n_samples, ), for example using ravel().\n",
      "  return f(**kwargs)\n"
     ]
    },
    {
     "name": "stdout",
     "output_type": "stream",
     "text": [
      "훈련 세트 정확도: 0.68\n",
      "테스트 세트 정확도: 0.68\n"
     ]
    }
   ],
   "source": [
    "from sklearn.svm import SVC\n",
    "\n",
    "svc = SVC()\n",
    "svc.fit(X_user_train, y_user_train)\n",
    "\n",
    "print(\"훈련 세트 정확도: {:.2f}\".format(svc.score(X_user_train, y_user_train)))\n",
    "print(\"테스트 세트 정확도: {:.2f}\".format(svc.score(X_user_test, y_user_test)))"
   ]
  },
  {
   "cell_type": "markdown",
   "metadata": {},
   "source": [
    "#### 표준화한 데이터"
   ]
  },
  {
   "cell_type": "code",
   "execution_count": null,
   "metadata": {},
   "outputs": [
    {
     "name": "stderr",
     "output_type": "stream",
     "text": [
      "/home/bitai/anaconda3/envs/cheese-ai/lib/python3.7/site-packages/sklearn/utils/validation.py:72: DataConversionWarning: A column-vector y was passed when a 1d array was expected. Please change the shape of y to (n_samples, ), for example using ravel().\n",
      "  return f(**kwargs)\n"
     ]
    }
   ],
   "source": [
    "from sklearn.svm import SVC\n",
    "\n",
    "svc = SVC()\n",
    "svc.fit(X_user_train_std, y_user_train)\n",
    "\n",
    "print(\"훈련 세트 정확도: {:.2f}\".format(svc.score(X_user_train_std, y_user_train)))\n",
    "print(\"테스트 세트 정확도: {:.2f}\".format(svc.score(X_user_test_std, y_user_test)))"
   ]
  },
  {
   "cell_type": "markdown",
   "metadata": {},
   "source": [
    "#### 정규화한 데이터"
   ]
  },
  {
   "cell_type": "code",
   "execution_count": null,
   "metadata": {},
   "outputs": [],
   "source": [
    "from sklearn.svm import SVC\n",
    "\n",
    "svc = SVC()\n",
    "svc.fit(X_user_train_ns, y_user_train)\n",
    "\n",
    "print(\"훈련 세트 정확도: {:.2f}\".format(svc.score(X_user_train_ns, y_user_train)))\n",
    "print(\"테스트 세트 정확도: {:.2f}\".format(svc.score(X_user_test_ns, y_user_test)))"
   ]
  },
  {
   "cell_type": "code",
   "execution_count": null,
   "metadata": {},
   "outputs": [],
   "source": [
    "# import sklearn.svm as svm\n",
    "# import sklearn.metrics as mt\n",
    "# from sklearn.model_selection import cross_val_score, cross_validate\n",
    "\n",
    "# # linear\n",
    "# clf = svm.SVC(kernel = 'linear')\n",
    "# clf.fit(X_user_train, y_user_train)\n",
    "\n",
    "# print(\"Befor Scale - Linear\")\n",
    "\n",
    "# clf_predictions = clf.predict(X_user_test)\n",
    "# print(\"정확도: {}%\".format(clf.score(X_user_test, y_user_test)))"
   ]
  },
  {
   "cell_type": "code",
   "execution_count": null,
   "metadata": {},
   "outputs": [],
   "source": [
    "# import sklearn.svm as svm\n",
    "# import sklearn.metrics as mt\n",
    "# from sklearn.model_selection import cross_val_score, cross_validate\n",
    "\n",
    "# # linear\n",
    "# clf = svm.SVC(kernel = 'rbf')\n",
    "# clf.fit(X_user_train, y_user_train)\n",
    "\n",
    "# print(\"Befor Scale - rbf\")\n",
    "\n",
    "# clf_predictions = clf.predict(X_user_test)\n",
    "# print(\"정확도: {}%\".format(clf.score(X_user_test, y_user_test)))"
   ]
  },
  {
   "cell_type": "code",
   "execution_count": null,
   "metadata": {},
   "outputs": [],
   "source": []
  },
  {
   "cell_type": "code",
   "execution_count": null,
   "metadata": {},
   "outputs": [],
   "source": [
    "# # 표준화\n",
    "# # linear\n",
    "# clf = svm.SVC(kernel = 'linear')\n",
    "# clf.fit(X_user_train_std, y_user_train)\n",
    "\n",
    "# print(\"After Standard Scale - linear\")\n",
    "\n",
    "# clf_predictions = clf.predict(X_user_test_std)\n",
    "# print(\"정확도: {}%\".format(clf.score(X_user_test_std, y_user_test)))"
   ]
  },
  {
   "cell_type": "code",
   "execution_count": null,
   "metadata": {},
   "outputs": [],
   "source": [
    "# # 정규화\n",
    "# # linear\n",
    "# clf = svm.SVC(kernel = 'linear')\n",
    "# clf.fit(X_user_train_ns, y_user_train)\n",
    "\n",
    "# print(\"After Normalization Scale - linear\")\n",
    "\n",
    "# clf_predictions = clf.predict(X_user_test_std)\n",
    "# print(\"정확도: {}%\".format(clf.score(X_user_test_std, y_user_test)))"
   ]
  },
  {
   "cell_type": "code",
   "execution_count": null,
   "metadata": {},
   "outputs": [],
   "source": []
  },
  {
   "cell_type": "markdown",
   "metadata": {},
   "source": [
    "#### 샘플 데이터로 분석"
   ]
  },
  {
   "cell_type": "code",
   "execution_count": null,
   "metadata": {},
   "outputs": [],
   "source": [
    "# import sklearn.svm as svm\n",
    "# import sklearn.metrics as mt\n",
    "# from sklearn.model_selection import cross_val_score, cross_validate\n",
    "\n",
    "# # linear\n",
    "# clf = svm.SVC(kernel = 'linear')\n",
    "# clf.fit(X_user_train_sample, y_user_train_sample)\n",
    "\n",
    "# print(\"Befor Scale - Linear\")\n",
    "\n",
    "# clf_predictions = clf.predict(X_user_test_sample)\n",
    "# print(\"정확도: {}%\".format(clf.score(X_user_test_sample, y_user_test_sample)))"
   ]
  },
  {
   "cell_type": "code",
   "execution_count": null,
   "metadata": {},
   "outputs": [],
   "source": [
    "# import sklearn.svm as svm\n",
    "# import sklearn.metrics as mt\n",
    "# from sklearn.model_selection import cross_val_score, cross_validate\n",
    "\n",
    "# # linear\n",
    "# clf = svm.SVC(kernel = 'rbf')\n",
    "# clf.fit(X_user_train_sample, y_user_train_sample)\n",
    "\n",
    "# print(\"Befor Scale - rbf\")\n",
    "\n",
    "# clf_predictions = clf.predict(X_user_test_sample)\n",
    "# print(\"정확도: {}%\".format(clf.score(X_user_test_sample, y_user_test_sample)))"
   ]
  },
  {
   "cell_type": "code",
   "execution_count": null,
   "metadata": {},
   "outputs": [],
   "source": []
  },
  {
   "cell_type": "code",
   "execution_count": null,
   "metadata": {},
   "outputs": [],
   "source": [
    "# # 표준화\n",
    "# # linear\n",
    "# clf = svm.SVC(kernel = 'linear')\n",
    "# clf.fit(X_user_train_sample_std, y_user_train_sample)\n",
    "\n",
    "# print(\"After Standard Scale - linear\")\n",
    "\n",
    "# clf_predictions = clf.predict(X_user_test_sample_std)\n",
    "# print(\"정확도: {}%\".format(clf.score(X_user_test_sample_std, y_user_test_sample)))"
   ]
  },
  {
   "cell_type": "code",
   "execution_count": null,
   "metadata": {},
   "outputs": [],
   "source": [
    "# # 정규화\n",
    "# # linear\n",
    "# clf = svm.SVC(kernel = 'linear')\n",
    "# clf.fit(X_user_train_sample_ns, y_user_train_sample)\n",
    "\n",
    "# print(\"After Normalization Scale - linear\")\n",
    "\n",
    "# clf_predictions = clf.predict(X_user_test_sample_std)\n",
    "# print(\"정확도: {}%\".format(clf.score(X_user_test_sample_std, y_user_test_sample)))"
   ]
  },
  {
   "cell_type": "code",
   "execution_count": null,
   "metadata": {},
   "outputs": [],
   "source": []
  },
  {
   "cell_type": "markdown",
   "metadata": {},
   "source": [
    "### 로지스틱 회귀분석"
   ]
  },
  {
   "cell_type": "code",
   "execution_count": null,
   "metadata": {},
   "outputs": [],
   "source": [
    "from sklearn.linear_model import LogisticRegression\n",
    "\n",
    "model = LogisticRegression(random_state=42)\n",
    "model.fit(X_user_train, y_user_train)\n",
    "y_pred = model.predict(X_user_test)"
   ]
  },
  {
   "cell_type": "code",
   "execution_count": null,
   "metadata": {},
   "outputs": [],
   "source": [
    "from sklearn import metrics\n",
    "accuracy = metrics.accuracy_score(y_pred = y_pred, y_true = y_user_test)\n",
    "print(f'Accuracy of the model is {accuracy*100:.4f}%')"
   ]
  },
  {
   "cell_type": "markdown",
   "metadata": {},
   "source": [
    "#### 표준화"
   ]
  },
  {
   "cell_type": "code",
   "execution_count": null,
   "metadata": {},
   "outputs": [],
   "source": [
    "from sklearn.linear_model import LogisticRegression\n",
    "\n",
    "model = LogisticRegression(random_state=42)\n",
    "model.fit(X_user_train_std, y_user_train)\n",
    "y_pred = model.predict(X_user_test_std)"
   ]
  },
  {
   "cell_type": "code",
   "execution_count": null,
   "metadata": {},
   "outputs": [],
   "source": [
    "from sklearn import metrics\n",
    "accuracy = metrics.accuracy_score(y_pred = y_pred, y_true = y_user_test)\n",
    "print(f'Accuracy of the model is {accuracy*100:.4f}%')"
   ]
  },
  {
   "cell_type": "markdown",
   "metadata": {},
   "source": [
    "#### 정규화"
   ]
  },
  {
   "cell_type": "code",
   "execution_count": null,
   "metadata": {},
   "outputs": [],
   "source": [
    "from sklearn.linear_model import LogisticRegression\n",
    "\n",
    "model = LogisticRegression(random_state=42)\n",
    "model.fit(X_user_train_ns, y_user_train)\n",
    "y_pred = model.predict(X_user_test_ns)"
   ]
  },
  {
   "cell_type": "code",
   "execution_count": null,
   "metadata": {},
   "outputs": [],
   "source": [
    "from sklearn import metrics\n",
    "accuracy = metrics.accuracy_score(y_pred = y_pred, y_true = y_user_test)\n",
    "print(f'Accuracy of the model is {accuracy*100:.4f}%')"
   ]
  },
  {
   "cell_type": "markdown",
   "metadata": {},
   "source": [
    "#### 샘플 데이터로"
   ]
  },
  {
   "cell_type": "code",
   "execution_count": null,
   "metadata": {},
   "outputs": [],
   "source": [
    "# from sklearn.linear_model import LogisticRegression\n",
    "\n",
    "# model = LogisticRegression(random_state=42)\n",
    "# model.fit(X_user_train_sample, y_user_train_sample)\n",
    "# y_pred = model.predict(X_user_test_sample)"
   ]
  },
  {
   "cell_type": "code",
   "execution_count": null,
   "metadata": {},
   "outputs": [],
   "source": [
    "# from sklearn import metrics\n",
    "# accuracy = metrics.accuracy_score(y_pred = y_pred, y_true = y_user_test_sample)\n",
    "# print(f'Accuracy of the model is {accuracy*100:.4f}%')"
   ]
  },
  {
   "cell_type": "markdown",
   "metadata": {},
   "source": [
    "#### 샘플 데이터 + 표준화"
   ]
  },
  {
   "cell_type": "code",
   "execution_count": null,
   "metadata": {},
   "outputs": [],
   "source": [
    "# from sklearn.linear_model import LogisticRegression\n",
    "\n",
    "# model = LogisticRegression(random_state=42)\n",
    "# model.fit(X_user_train_sample_std, y_user_train_sample)\n",
    "# y_pred = model.predict(X_user_test_sample_std)"
   ]
  },
  {
   "cell_type": "code",
   "execution_count": null,
   "metadata": {},
   "outputs": [],
   "source": [
    "# from sklearn import metrics\n",
    "# accuracy = metrics.accuracy_score(y_pred = y_pred, y_true = y_user_test_sample)\n",
    "# print(f'Accuracy of the model is {accuracy*100:.4f}%')"
   ]
  },
  {
   "cell_type": "markdown",
   "metadata": {},
   "source": [
    "#### 샘플데이터 + 정규화"
   ]
  },
  {
   "cell_type": "code",
   "execution_count": null,
   "metadata": {},
   "outputs": [],
   "source": [
    "# from sklearn.linear_model import LogisticRegression\n",
    "\n",
    "# model = LogisticRegression(random_state=42)\n",
    "# model.fit(X_user_train_sample_ns, y_user_train_sample)\n",
    "# y_pred = model.predict(X_user_test_sample_ns)"
   ]
  },
  {
   "cell_type": "code",
   "execution_count": null,
   "metadata": {},
   "outputs": [],
   "source": [
    "# from sklearn import metrics\n",
    "# accuracy = metrics.accuracy_score(y_pred = y_pred, y_true = y_user_test_sample)\n",
    "# print(f'Accuracy of the model is {accuracy*100:.4f}%')"
   ]
  },
  {
   "cell_type": "code",
   "execution_count": null,
   "metadata": {},
   "outputs": [],
   "source": []
  },
  {
   "cell_type": "markdown",
   "metadata": {},
   "source": [
    "#### 다항 로지스틱 회귀분석"
   ]
  },
  {
   "cell_type": "code",
   "execution_count": null,
   "metadata": {},
   "outputs": [],
   "source": [
    "import numpy as np\n",
    "from sklearn.linear_model import LogisticRegression\n",
    "\n",
    "model = LogisticRegression(multi_class = 'multinomial', solver = 'lbfgs', C = 8, random_state=42)\n",
    "model.fit(X_user_train_std, y_user_train)\n",
    "\n",
    "# y_pred = model.predict(X_user_test_std)\n",
    "x0, x1 = np.meshgrid(np.linspace(0, 8, 500).reshape(-1, 1),\n",
    "                    np.linspace(0, 3.5, 200).reshape(-1, 1))\n",
    "X_new = np.c_[x0.ravel(), x1.ravel()]\n",
    "y_proba = model.predict_proba(X_new)"
   ]
  },
  {
   "cell_type": "code",
   "execution_count": null,
   "metadata": {},
   "outputs": [],
   "source": [
    "from sklearn.linear_model import LogisticRegression\n",
    "\n",
    "model = LogisticRegression(multi_class = 'multinomial', solver = 'lbfgs', C = 10, random_state=42)\n",
    "model.fit(X_user_train_std, y_user_train)\n",
    "\n",
    "plt.xlabel('user_age [standardized]')\n",
    "plt.ylabel('user')"
   ]
  },
  {
   "cell_type": "markdown",
   "metadata": {},
   "source": [
    "## 케라스로 모델링"
   ]
  },
  {
   "cell_type": "code",
   "execution_count": null,
   "metadata": {
    "scrolled": true
   },
   "outputs": [],
   "source": [
    "pip install keras"
   ]
  },
  {
   "cell_type": "code",
   "execution_count": null,
   "metadata": {
    "scrolled": true
   },
   "outputs": [],
   "source": [
    "pip install tensorflow"
   ]
  },
  {
   "cell_type": "markdown",
   "metadata": {},
   "source": [
    "### 시도 0"
   ]
  },
  {
   "cell_type": "code",
   "execution_count": null,
   "metadata": {},
   "outputs": [],
   "source": [
    "from keras.models import Sequential\n",
    "from keras.layers import Dense, Activation\n",
    "\n",
    "def build_model():\n",
    "    model = Sequential()\n",
    "    model.add(Dense(8, activation = 'tanh', input_dim=8))\n",
    "    model.add(Dense(4, activation = 'tanh'))\n",
    "    model.add(Dense(1, activation = 'sigmoid'))\n",
    "\n",
    "    model.compile(optimizer = 'sgd', loss = 'categorical_crossentropy', metrics=['accuracy'])\n",
    "    # model.fit(X_user_train, y_user_train, epochs = 100, batch_size = 5, verbose = 0)\n",
    "    return model"
   ]
  },
  {
   "cell_type": "code",
   "execution_count": null,
   "metadata": {},
   "outputs": [],
   "source": [
    "from keras.wrappers.scikit_learn import KerasRegressor\n",
    "\n",
    "YourModel = KerasRegressor(build_fn = build_model, epochs = 300, batch_size = 10, verbose = 1)"
   ]
  },
  {
   "cell_type": "code",
   "execution_count": null,
   "metadata": {},
   "outputs": [],
   "source": [
    "from sklearn.model_selection import KFold\n",
    "\n",
    "kf = KFold(n_splits = 5)"
   ]
  },
  {
   "cell_type": "code",
   "execution_count": null,
   "metadata": {},
   "outputs": [],
   "source": [
    "from sklearn.model_selection import cross_val_score\n",
    "results = cross_val_score(YourModel, X_user_train, y_user_train, cv = kf)"
   ]
  },
  {
   "cell_type": "code",
   "execution_count": null,
   "metadata": {},
   "outputs": [],
   "source": [
    "import matplotlib.pyplot as plt\n",
    "import matplotlib as mpl\n",
    "\n",
    "mpl.rcParams['figure.figsize'] = (6.0, 4.0)\n",
    "plt.plot(trainRes.history['loss'])\n",
    "plt.plot(trainRes.history['val_loss'])\n",
    "plt.ylim(0, 1)\n",
    "plt.ylabel('loss')\n",
    "plt.xlabel('epoch')\n",
    "plt.legend(['train loss', 'test loss'], loc = 'upper right')\n",
    "\n",
    "print(\"Best Accuracy =\", max(trainRes.history['val_accuracy']))"
   ]
  },
  {
   "cell_type": "markdown",
   "metadata": {},
   "source": [
    "### 시도 1"
   ]
  },
  {
   "cell_type": "code",
   "execution_count": null,
   "metadata": {},
   "outputs": [],
   "source": [
    "from keras.models import Sequential\n",
    "from keras.layers import Dense, Activation\n",
    "\n",
    "model = Sequential()\n",
    "model.add(Dense(8, activation = 'tanh', input_dim=8))\n",
    "model.add(Dense(5, activation = 'tanh'))\n",
    "model.add(Dense(1, activation = 'sigmoid'))\n",
    "model.compile(optimizer = 'sgd', loss = 'categorical_crossentropy', metrics = 'accuracy')\n",
    "\n",
    "model.fit(X_user_train, y_user_train, epochs = 100, batch_size = 5, verbose = 0)\n",
    "print(\"Test Loss = \", model.evaluate(X_user_test, y_user_test))\n"
   ]
  },
  {
   "cell_type": "code",
   "execution_count": null,
   "metadata": {},
   "outputs": [],
   "source": [
    "history = model.fit(X_user_train, y_user_train, validation_data = (X_user_test, y_user_test))"
   ]
  },
  {
   "cell_type": "code",
   "execution_count": null,
   "metadata": {},
   "outputs": [],
   "source": [
    "import matplotlib.pyplot as plt\n",
    "import matplotlib\n",
    "\n",
    "plt.plot(history.history['loss'])\n",
    "plt.plot(history.history['val_loss'])"
   ]
  },
  {
   "cell_type": "code",
   "execution_count": null,
   "metadata": {},
   "outputs": [],
   "source": [
    "from keras.models import Sequential\n",
    "from keras.layers import Dense, Activation\n",
    "\n",
    "model = Sequential()\n",
    "model.add(Dense(8, activation = 'tanh', input_dim=8))\n",
    "model.add(Dense(5, activation = 'tanh'))\n",
    "model.add(Dense(1, activation = 'softmax'))\n",
    "model.compile(optimizer = 'sgd', loss = 'categorical_crossentropy', metrics = 'accuracy')\n",
    "\n",
    "model.fit(X_user_train, y_user_train, epochs = 100, batch_size = 5, verbose = 0)\n",
    "print(\"Test Loss = \", model.evaluate(X_user_test, y_user_test))\n"
   ]
  },
  {
   "cell_type": "markdown",
   "metadata": {},
   "source": [
    "### 시도 2"
   ]
  },
  {
   "cell_type": "code",
   "execution_count": null,
   "metadata": {},
   "outputs": [],
   "source": [
    "from keras.models import Sequential\n",
    "from keras.layers import Dense, Activation\n",
    "from keras.layers import Dropout\n",
    "\n",
    "model = Sequential()\n",
    "model.add(Dense(8, activation = 'tanh', input_dim=8))\n",
    "model.add(Dropout(0.5))\n",
    "model.add(Dense(4, activation = 'tanh'))\n",
    "model.add(Dropout(0.2))\n",
    "model.add(Dense(2, activation = 'relu')) \n",
    "model.add(Dropout(0.2))\n",
    "model.add(Dense(1, activation = 'sigmoid'))\n",
    "model.compile(optimizer = 'sgd', loss = 'categorical_crossentropy')\n",
    "\n",
    "model.fit(X_user_train, y_user_train, epochs = 100, batch_size = 5, verbose = 0)\n",
    "print(\"Test Loss = \", model.evaluate(X_user_test, y_user_test))\n"
   ]
  },
  {
   "cell_type": "code",
   "execution_count": null,
   "metadata": {},
   "outputs": [],
   "source": [
    "import numpy as np\n",
    "from keras.models import Sequential\n",
    "from keras.layers import Dense, Activation\n",
    "from keras.layers import Dropout\n",
    "\n",
    "seed = 1\n",
    "np.random.seed(seed)\n",
    "model = Sequential()\n",
    "\n",
    "model.add(Dense(32, activation = 'tanh', input_dim=8))\n",
    "model.add(Dropout(0.5))\n",
    "model.add(Dense(16, activation = 'relu'))\n",
    "model.add(Dense(8, activation = 'relu'))\n",
    "model.add(Dense(4, activation = 'relu'))\n",
    "model.add(Dense(2, activation = 'relu')) \n",
    "model.add(Dense(1, activation = 'softmax'))\n",
    "\n",
    "model.compile(optimizer = 'sgd', loss = 'categorical_crossentropy', metrics = 'accuracy')\n",
    "model.fit(X_user_train, y_user_train, validation_data = [X_user_train.to_numpy(), y_user_train.to_numpy()], epochs = 100, batch_size = 5, verbose = 1)\n",
    "# print(\"Test Loss = \", model.evaluate(X_user_test, y_user_test))\n",
    "\n",
    "# kf = KFold(n_splits = 5)\n",
    "# results = cross_val_score(YourModel, X_user_train_std, y_user_train, cv = kf)"
   ]
  },
  {
   "cell_type": "markdown",
   "metadata": {},
   "source": [
    "### 시도 3"
   ]
  },
  {
   "cell_type": "code",
   "execution_count": null,
   "metadata": {},
   "outputs": [],
   "source": [
    "from keras.models import Sequential\n",
    "from keras.layers import Dense, Activation\n",
    "from keras.layers import Dropout\n",
    "\n",
    "model = Sequential()\n",
    "model.add(Dense(16, activation = 'tanh', input_dim=8))\n",
    "model.add(Dropout(0.5))\n",
    "model.add(Dense(8, activation = 'tanh'))\n",
    "model.add(Dropout(0.2))\n",
    "model.add(Dense(4, activation = 'tanh'))\n",
    "model.add(Dropout(0.2))\n",
    "model.add(Dense(2, activation = 'relu')) \n",
    "model.add(Dropout(0.2))\n",
    "model.add(Dense(1, activation = 'sigmoid'))\n",
    "model.compile(optimizer = 'sgd', loss = 'categorical_crossentropy')\n",
    "\n",
    "model.fit(X_user_train, y_user_train, epochs = 100, batch_size = 5, verbose = 0)\n",
    "print(\"Test Loss = \", model.evaluate(X_user_test, y_user_test))\n"
   ]
  },
  {
   "cell_type": "markdown",
   "metadata": {},
   "source": [
    "### 시도 4"
   ]
  },
  {
   "cell_type": "code",
   "execution_count": null,
   "metadata": {},
   "outputs": [],
   "source": [
    "from keras.models import Sequential\n",
    "from keras.layers import Dense, Activation\n",
    "from keras.wrappers.scikit_learn import KerasRegressor\n",
    "from sklearn.model_selection import KFold\n",
    "from sklearn.model_selection import cross_val_score\n",
    "\n",
    "def build_model():\n",
    "    model = Sequential()\n",
    "    model.add(Dense(8, activation = 'relu', input_dim=8))\n",
    "    model.add(Dense(4, activation = 'relu'))\n",
    "    model.add(Dense(1, activation = 'softmax'))\n",
    "\n",
    "    model.compile(optimizer = 'sgd', loss = 'categorical_crossentropy', metrics=['accuracy'])\n",
    "    # model.fit(X_user_train, y_user_train, epochs = 100, batch_size = 5, verbose = 0)\n",
    "    return model\n",
    "\n",
    "\n",
    "YourModel = KerasRegressor(build_fn = build_model, epochs = 100, batch_size = 3, verbose = 1)\n",
    "\n",
    "kf = KFold(n_splits = 5)\n",
    "\n",
    "results = cross_val_score(YourModel, X_user_train_std, y_user_train, cv = kf)"
   ]
  },
  {
   "cell_type": "code",
   "execution_count": null,
   "metadata": {},
   "outputs": [],
   "source": [
    "from keras.models import Sequential\n",
    "from keras.layers import Dense, Activation\n",
    "from keras.wrappers.scikit_learn import KerasRegressor\n",
    "from sklearn.model_selection import KFold\n",
    "from sklearn.model_selection import cross_val_score\n",
    "\n",
    "def build_model():\n",
    "    model = Sequential()\n",
    "    model.add(Dense(8, activation = 'relu', input_dim=8))\n",
    "    model.add(Dense(4, activation = 'relu'))\n",
    "    model.add(Dense(1, activation = 'softmax'))\n",
    "\n",
    "    model.compile(optimizer = 'sgd', loss = 'categorical_crossentropy', metrics=['accuracy'])\n",
    "    # model.fit(X_user_train, y_user_train, epochs = 100, batch_size = 5, verbose = 0)\n",
    "    return model\n",
    "\n",
    "\n",
    "YourModel = KerasRegressor(build_fn = build_model, epochs = 100, batch_size = 3, verbose = 1)\n",
    "\n",
    "kf = KFold(n_splits = 5)\n",
    "\n",
    "results = cross_val_score(YourModel, X_user_train_std, y_user_train, cv = kf)"
   ]
  },
  {
   "cell_type": "code",
   "execution_count": null,
   "metadata": {},
   "outputs": [],
   "source": [
    "from keras.models import Sequential\n",
    "from keras.layers import Dense, Activation\n",
    "from keras.wrappers.scikit_learn import KerasRegressor\n",
    "from sklearn.model_selection import KFold\n",
    "from sklearn.model_selection import cross_val_score\n",
    "\n",
    "def build_model():\n",
    "    model = Sequential()\n",
    "    model.add(Dense(8, activation = 'tanh', input_dim=8))\n",
    "    model.add(Dense(4, activation = 'tanh'))\n",
    "    model.add(Dense(1, activation = 'softmax'))\n",
    "\n",
    "    model.compile(optimizer = 'adam', loss = 'categorical_crossentropy', metrics=['accuracy'])\n",
    "    # model.fit(X_user_train, y_user_train, epochs = 100, batch_size = 5, verbose = 0)\n",
    "    return model\n",
    "\n",
    "\n",
    "YourModel = KerasRegressor(build_fn = build_model, epochs = 100, batch_size = 3, verbose = 1)\n",
    "\n",
    "kf = KFold(n_splits = 5)\n",
    "\n",
    "results = cross_val_score(YourModel, X_user_train_std, y_user_train, cv = kf)"
   ]
  },
  {
   "cell_type": "code",
   "execution_count": null,
   "metadata": {},
   "outputs": [],
   "source": [
    "# 데이터가 너무 편향되어 있어서 loss값이 0.000e+00이 나오는 것\n",
    "# accuracy도 0.5가 안되는 것을 보면 dense가 너무 작음"
   ]
  },
  {
   "cell_type": "code",
   "execution_count": null,
   "metadata": {
    "scrolled": true
   },
   "outputs": [],
   "source": [
    "from keras.models import Sequential\n",
    "from keras.layers import Dense, Activation\n",
    "from keras.layers import Dropout\n",
    "from keras.wrappers.scikit_learn import KerasRegressor\n",
    "from sklearn.model_selection import KFold\n",
    "from sklearn.model_selection import cross_val_score\n",
    "from sklearn.metrics import accuracy_score\n",
    "\n",
    "model = Sequential()\n",
    "model.add(Dense(units = 8, activation = 'relu', kernel_initializer = 'uniform'))\n",
    "model.add(Dropout(rate = 0.3))\n",
    "model.add(Dense(units = 1, activation = 'softmax', kernel_initializer = 'uniform'))\n",
    "\n",
    "model.compile(optimizer = 'adam', loss = 'categorical_crossentropy', metrics=['accuracy'])\n",
    "model.fit(X_user_train, y_user_train, epochs = 100, batch_size = 10)\n",
    "\n",
    "y_pred_class = model.predict(X_user_test)\n",
    "y_pred_prob = model.predict_proba(X_user_test)\n",
    "\n",
    "y_pred_class[:5]\n",
    "\n",
    "y_pred_class = y_pred_class > 0.5\n",
    "\n",
    "accuracy_score(y_user_test, y_pred_class)"
   ]
  },
  {
   "cell_type": "code",
   "execution_count": null,
   "metadata": {},
   "outputs": [],
   "source": [
    "from keras.models import Sequential\n",
    "from keras.layers import Dense, Activation\n",
    "from keras.layers import Dropout\n",
    "from keras.wrappers.scikit_learn import KerasRegressor\n",
    "from sklearn.model_selection import KFold\n",
    "from sklearn.model_selection import cross_val_score\n",
    "from sklearn.metrics import accuracy_score\n",
    "\n",
    "model = Sequential()\n",
    "model.add(Dense(units = 8, activation = 'relu', kernel_initializer = 'uniform'))\n",
    "model.add(Dropout(rate = 0.3))\n",
    "model.add(Dense(units = 1, activation = 'softmax', kernel_initializer = 'uniform'))\n",
    "\n",
    "model.compile(optimizer = 'adam', loss = 'categorical_crossentropy', metrics=['accuracy'])\n",
    "model.fit(X_user_train, y_user_train, epochs = 100, batch_size = 10)\n",
    "\n",
    "# y_pred_class = model.predict(X_user_test)\n",
    "# y_pred_prob = model.predict_proba(X_user_test)\n",
    "\n",
    "# y_pred_class[:5]\n",
    "\n",
    "# y_pred_class = y_pred_class > 0.5\n",
    "\n",
    "# accuracy_score(y_user_test, y_pred_class)"
   ]
  },
  {
   "cell_type": "code",
   "execution_count": 27,
   "metadata": {
    "scrolled": true
   },
   "outputs": [
    {
     "ename": "NameError",
     "evalue": "name 'ModelCheckpoint' is not defined",
     "output_type": "error",
     "traceback": [
      "\u001b[0;31m---------------------------------------------------------------------------\u001b[0m",
      "\u001b[0;31mNameError\u001b[0m                                 Traceback (most recent call last)",
      "\u001b[0;32m<ipython-input-27-9072404af8dc>\u001b[0m in \u001b[0;36m<module>\u001b[0;34m\u001b[0m\n\u001b[1;32m      8\u001b[0m \u001b[0;34m\u001b[0m\u001b[0m\n\u001b[1;32m      9\u001b[0m \u001b[0mmodelpath\u001b[0m \u001b[0;34m=\u001b[0m \u001b[0;34m'recommender.model'\u001b[0m\u001b[0;34m\u001b[0m\u001b[0;34m\u001b[0m\u001b[0m\n\u001b[0;32m---> 10\u001b[0;31m \u001b[0mcheckpointer\u001b[0m \u001b[0;34m=\u001b[0m \u001b[0mModelCheckpoint\u001b[0m\u001b[0;34m(\u001b[0m\u001b[0mfilepath\u001b[0m \u001b[0;34m=\u001b[0m \u001b[0mmodelpath\u001b[0m\u001b[0;34m,\u001b[0m \u001b[0mmonitor\u001b[0m \u001b[0;34m=\u001b[0m \u001b[0;34m'val_loss'\u001b[0m\u001b[0;34m,\u001b[0m \u001b[0mverbose\u001b[0m \u001b[0;34m=\u001b[0m \u001b[0;36m1\u001b[0m\u001b[0;34m,\u001b[0m \u001b[0msave_best_only\u001b[0m \u001b[0;34m=\u001b[0m \u001b[0;32mTrue\u001b[0m\u001b[0;34m)\u001b[0m\u001b[0;34m\u001b[0m\u001b[0;34m\u001b[0m\u001b[0m\n\u001b[0m\u001b[1;32m     11\u001b[0m \u001b[0mearly_stop\u001b[0m \u001b[0;34m=\u001b[0m \u001b[0mEarlyStopping\u001b[0m\u001b[0;34m(\u001b[0m\u001b[0mmonitor\u001b[0m \u001b[0;34m=\u001b[0m \u001b[0;34m'val_loss'\u001b[0m\u001b[0;34m,\u001b[0m \u001b[0mpatienct\u001b[0m \u001b[0;34m=\u001b[0m \u001b[0;36m3\u001b[0m\u001b[0;34m)\u001b[0m\u001b[0;34m\u001b[0m\u001b[0;34m\u001b[0m\u001b[0m\n\u001b[1;32m     12\u001b[0m \u001b[0;34m\u001b[0m\u001b[0m\n",
      "\u001b[0;31mNameError\u001b[0m: name 'ModelCheckpoint' is not defined"
     ]
    }
   ],
   "source": [
    "from keras.models import Sequential\n",
    "from keras.layers import Dense, Activation\n",
    "from keras.layers import Dropout\n",
    "from keras.wrappers.scikit_learn import KerasRegressor\n",
    "from sklearn.model_selection import KFold\n",
    "from sklearn.model_selection import cross_val_score\n",
    "from sklearn.metrics import accuracy_score\n",
    "\n",
    "modelpath = 'recommender.model'\n",
    "checkpointer = ModelCheckpoint(filepath = modelpath, monitor = 'val_loss', verbose = 1, save_best_only = True)\n",
    "early_stop = EarlyStopping(monitor = 'val_loss', patienct = 3)\n",
    "\n",
    "model = Sequential()\n",
    "model.add(Dense(units = 32, activation = 'tanh', kernel_initializer = 'uniform'))\n",
    "model.add(Dropout(rate = 0.3))\n",
    "model.add(Dense(units = 16, activation = 'relu'))\n",
    "model.add(Dropout(0.2))\n",
    "model.add(Dense(units = 8, activation = 'sigmoid'))\n",
    "model.add(Dropout(0.2))\n",
    "model.add(Dense(units = 1, activation = 'softmax', kernel_initializer = 'uniform'))\n",
    "\n",
    "model.compile(optimizer = 'adam', loss = 'categorical_crossentropy', metrics=['accuracy'])\n",
    "model.fit(X_user_train_sc, y_user_train, validation_split = 0.2, epochs = 100, batch_size = 10, callback=[early_stop, checkpointer])\n",
    "\n",
    "y_pred_class = model.predict(X_user_test)\n",
    "y_pred_prob = model.predict_proba(X_user_test)\n",
    "\n",
    "y_pred_class[:5]\n",
    "\n",
    "y_pred_class = y_pred_class > 0.5\n",
    "\n",
    "accuracy_score(y_user_test, y_pred_class)"
   ]
  },
  {
   "cell_type": "code",
   "execution_count": null,
   "metadata": {},
   "outputs": [],
   "source": []
  },
  {
   "cell_type": "markdown",
   "metadata": {},
   "source": [
    "## SVM 모델 생성"
   ]
  },
  {
   "cell_type": "markdown",
   "metadata": {},
   "source": [
    "### Linear SVM"
   ]
  },
  {
   "cell_type": "code",
   "execution_count": null,
   "metadata": {
    "scrolled": true
   },
   "outputs": [
    {
     "name": "stderr",
     "output_type": "stream",
     "text": [
      "/home/bitai/anaconda3/envs/cheese-ai/lib/python3.7/site-packages/sklearn/utils/validation.py:72: DataConversionWarning: A column-vector y was passed when a 1d array was expected. Please change the shape of y to (n_samples, ), for example using ravel().\n",
      "  return f(**kwargs)\n"
     ]
    },
    {
     "name": "stdout",
     "output_type": "stream",
     "text": [
      "선형 SVM: C: 1, training score: 0.792802, test score: 0.795878\n",
      "[ 1  1  5 ...  1  1 11]\n"
     ]
    },
    {
     "name": "stderr",
     "output_type": "stream",
     "text": [
      "/home/bitai/anaconda3/envs/cheese-ai/lib/python3.7/site-packages/sklearn/utils/validation.py:72: DataConversionWarning: A column-vector y was passed when a 1d array was expected. Please change the shape of y to (n_samples, ), for example using ravel().\n",
      "  return f(**kwargs)\n"
     ]
    },
    {
     "name": "stdout",
     "output_type": "stream",
     "text": [
      "선형 SVM: C: 2, training score: 0.795630, test score: 0.800036\n",
      "[ 1  1  5 ...  1  1 11]\n"
     ]
    },
    {
     "name": "stderr",
     "output_type": "stream",
     "text": [
      "/home/bitai/anaconda3/envs/cheese-ai/lib/python3.7/site-packages/sklearn/utils/validation.py:72: DataConversionWarning: A column-vector y was passed when a 1d array was expected. Please change the shape of y to (n_samples, ), for example using ravel().\n",
      "  return f(**kwargs)\n"
     ]
    },
    {
     "name": "stdout",
     "output_type": "stream",
     "text": [
      "선형 SVM: C: 3, training score: 0.795591, test score: 0.800127\n",
      "[ 1  1  5 ...  1  1 11]\n"
     ]
    },
    {
     "name": "stderr",
     "output_type": "stream",
     "text": [
      "/home/bitai/anaconda3/envs/cheese-ai/lib/python3.7/site-packages/sklearn/utils/validation.py:72: DataConversionWarning: A column-vector y was passed when a 1d array was expected. Please change the shape of y to (n_samples, ), for example using ravel().\n",
      "  return f(**kwargs)\n"
     ]
    },
    {
     "name": "stdout",
     "output_type": "stream",
     "text": [
      "선형 SVM: C: 4, training score: 0.795746, test score: 0.800217\n",
      "[ 1  1  5 ...  1  1 11]\n"
     ]
    },
    {
     "name": "stderr",
     "output_type": "stream",
     "text": [
      "/home/bitai/anaconda3/envs/cheese-ai/lib/python3.7/site-packages/sklearn/utils/validation.py:72: DataConversionWarning: A column-vector y was passed when a 1d array was expected. Please change the shape of y to (n_samples, ), for example using ravel().\n",
      "  return f(**kwargs)\n"
     ]
    },
    {
     "name": "stdout",
     "output_type": "stream",
     "text": [
      "선형 SVM: C: 5, training score: 0.796017, test score: 0.800217\n",
      "[ 1  1  5 ...  1  1 11]\n"
     ]
    },
    {
     "name": "stderr",
     "output_type": "stream",
     "text": [
      "/home/bitai/anaconda3/envs/cheese-ai/lib/python3.7/site-packages/sklearn/utils/validation.py:72: DataConversionWarning: A column-vector y was passed when a 1d array was expected. Please change the shape of y to (n_samples, ), for example using ravel().\n",
      "  return f(**kwargs)\n"
     ]
    },
    {
     "name": "stdout",
     "output_type": "stream",
     "text": [
      "선형 SVM: C: 6, training score: 0.796056, test score: 0.800850\n",
      "[ 1  1  5 ...  1  1 11]\n"
     ]
    },
    {
     "name": "stderr",
     "output_type": "stream",
     "text": [
      "/home/bitai/anaconda3/envs/cheese-ai/lib/python3.7/site-packages/sklearn/utils/validation.py:72: DataConversionWarning: A column-vector y was passed when a 1d array was expected. Please change the shape of y to (n_samples, ), for example using ravel().\n",
      "  return f(**kwargs)\n"
     ]
    },
    {
     "name": "stdout",
     "output_type": "stream",
     "text": [
      "선형 SVM: C: 7, training score: 0.797722, test score: 0.802206\n",
      "[ 1  1  5 ...  1  1 11]\n"
     ]
    },
    {
     "name": "stderr",
     "output_type": "stream",
     "text": [
      "/home/bitai/anaconda3/envs/cheese-ai/lib/python3.7/site-packages/sklearn/utils/validation.py:72: DataConversionWarning: A column-vector y was passed when a 1d array was expected. Please change the shape of y to (n_samples, ), for example using ravel().\n",
      "  return f(**kwargs)\n"
     ]
    },
    {
     "name": "stdout",
     "output_type": "stream",
     "text": [
      "선형 SVM: C: 8, training score: 0.797722, test score: 0.802206\n",
      "[ 1  1  5 ...  1  1 11]\n"
     ]
    },
    {
     "name": "stderr",
     "output_type": "stream",
     "text": [
      "/home/bitai/anaconda3/envs/cheese-ai/lib/python3.7/site-packages/sklearn/utils/validation.py:72: DataConversionWarning: A column-vector y was passed when a 1d array was expected. Please change the shape of y to (n_samples, ), for example using ravel().\n",
      "  return f(**kwargs)\n"
     ]
    },
    {
     "name": "stdout",
     "output_type": "stream",
     "text": [
      "선형 SVM: C: 9, training score: 0.797799, test score: 0.802206\n",
      "[ 1  1  5 ...  1  1 11]\n"
     ]
    },
    {
     "name": "stderr",
     "output_type": "stream",
     "text": [
      "/home/bitai/anaconda3/envs/cheese-ai/lib/python3.7/site-packages/sklearn/utils/validation.py:72: DataConversionWarning: A column-vector y was passed when a 1d array was expected. Please change the shape of y to (n_samples, ), for example using ravel().\n",
      "  return f(**kwargs)\n"
     ]
    },
    {
     "name": "stdout",
     "output_type": "stream",
     "text": [
      "선형 SVM: C: 10, training score: 0.798226, test score: 0.802658\n",
      "[ 1  1  5 ...  1  1 11]\n"
     ]
    },
    {
     "name": "stderr",
     "output_type": "stream",
     "text": [
      "/home/bitai/anaconda3/envs/cheese-ai/lib/python3.7/site-packages/sklearn/utils/validation.py:72: DataConversionWarning: A column-vector y was passed when a 1d array was expected. Please change the shape of y to (n_samples, ), for example using ravel().\n",
      "  return f(**kwargs)\n"
     ]
    },
    {
     "name": "stdout",
     "output_type": "stream",
     "text": [
      "선형 SVM: C: 11, training score: 0.798419, test score: 0.803110\n",
      "[ 1  1  5 ...  1  1 11]\n"
     ]
    },
    {
     "name": "stderr",
     "output_type": "stream",
     "text": [
      "/home/bitai/anaconda3/envs/cheese-ai/lib/python3.7/site-packages/sklearn/utils/validation.py:72: DataConversionWarning: A column-vector y was passed when a 1d array was expected. Please change the shape of y to (n_samples, ), for example using ravel().\n",
      "  return f(**kwargs)\n"
     ]
    },
    {
     "name": "stdout",
     "output_type": "stream",
     "text": [
      "선형 SVM: C: 12, training score: 0.798458, test score: 0.804285\n",
      "[ 1  1  5 ...  1  1 11]\n"
     ]
    },
    {
     "name": "stderr",
     "output_type": "stream",
     "text": [
      "/home/bitai/anaconda3/envs/cheese-ai/lib/python3.7/site-packages/sklearn/utils/validation.py:72: DataConversionWarning: A column-vector y was passed when a 1d array was expected. Please change the shape of y to (n_samples, ), for example using ravel().\n",
      "  return f(**kwargs)\n"
     ]
    },
    {
     "name": "stdout",
     "output_type": "stream",
     "text": [
      "선형 SVM: C: 13, training score: 0.798458, test score: 0.805460\n",
      "[ 1  1  5 ...  1  1 11]\n"
     ]
    },
    {
     "name": "stderr",
     "output_type": "stream",
     "text": [
      "/home/bitai/anaconda3/envs/cheese-ai/lib/python3.7/site-packages/sklearn/utils/validation.py:72: DataConversionWarning: A column-vector y was passed when a 1d array was expected. Please change the shape of y to (n_samples, ), for example using ravel().\n",
      "  return f(**kwargs)\n"
     ]
    }
   ],
   "source": [
    "from sklearn.svm import SVC\n",
    "from sklearn.preprocessing import MinMaxScaler\n",
    "import pickle\n",
    "\n",
    "# 정규화\n",
    "scaler = MinMaxScaler()\n",
    "X_user_train_sc = scaler.fit_transform(X_user_train)\n",
    "X_user_test_sc = scaler.fit_transform(X_user_test)\n",
    "\n",
    "# Linear SVM을 위한 적절한 C값 검색\n",
    "# 분류: SVC, 회귀(예측): SVR\n",
    "\n",
    "scores = []\n",
    "for thisC in [*range(1, 30)]:\n",
    "    svc = SVC(kernel = 'linear', C = thisC)\n",
    "    model = svc.fit(X_user_train_sc, y_user_train)\n",
    "    scoreTrain = model.score(X_user_train_sc, y_user_train)\n",
    "    scoreTest = model.score(X_user_test_sc, y_user_test)\n",
    "    print(\"선형 SVM: C: {}, training score: {:2f}, test score: {:2f}\".format(thisC, scoreTrain, scoreTest))\n",
    "    print(model.predict(X_user_test_sc))\n",
    "    scores.append([scoreTrain, scoreTest])\n",
    "    \n",
    "# saved_model = pickle.dumps(model)    \n",
    "# save_file = 'saved_model/model.ckpt'\n",
    "# _ = tf.Variable(initial_value='fake_variable')\n",
    "# saver = tf.train.Saver()\n",
    "# with tf.Session() as sess:\n",
    "#     sess.run(tf.global_variables_initializer())\n",
    "#     for i in range(-30, 50):\n",
    "#         W_val.append(i * 0.1)\n",
    "#         cost_val.append(sess.run(cost, feed_dict={W: i* 0.1}))\n",
    "#     saver.save(sess, save_file)"
   ]
  },
  {
   "cell_type": "markdown",
   "metadata": {},
   "source": [
    "### Rbf SVM"
   ]
  },
  {
   "cell_type": "code",
   "execution_count": 14,
   "metadata": {},
   "outputs": [
    {
     "name": "stderr",
     "output_type": "stream",
     "text": [
      "/home/bitai/anaconda3/envs/cheese-ai/lib/python3.7/site-packages/sklearn/utils/validation.py:72: DataConversionWarning: A column-vector y was passed when a 1d array was expected. Please change the shape of y to (n_samples, ), for example using ravel().\n",
      "  return f(**kwargs)\n"
     ]
    },
    {
     "name": "stdout",
     "output_type": "stream",
     "text": [
      "rbf SVM: C: 1, training score: 0.912208, test score: 0.912855\n",
      "[ 1  1  5 ...  1  1 11]\n"
     ]
    },
    {
     "name": "stderr",
     "output_type": "stream",
     "text": [
      "/home/bitai/anaconda3/envs/cheese-ai/lib/python3.7/site-packages/sklearn/utils/validation.py:72: DataConversionWarning: A column-vector y was passed when a 1d array was expected. Please change the shape of y to (n_samples, ), for example using ravel().\n",
      "  return f(**kwargs)\n"
     ]
    },
    {
     "name": "stdout",
     "output_type": "stream",
     "text": [
      "rbf SVM: C: 2, training score: 0.936035, test score: 0.935816\n",
      "[ 1  1  5 ...  1  1 11]\n"
     ]
    },
    {
     "name": "stderr",
     "output_type": "stream",
     "text": [
      "/home/bitai/anaconda3/envs/cheese-ai/lib/python3.7/site-packages/sklearn/utils/validation.py:72: DataConversionWarning: A column-vector y was passed when a 1d array was expected. Please change the shape of y to (n_samples, ), for example using ravel().\n",
      "  return f(**kwargs)\n"
     ]
    },
    {
     "name": "stdout",
     "output_type": "stream",
     "text": [
      "rbf SVM: C: 3, training score: 0.939328, test score: 0.938347\n",
      "[ 1  1  5 ...  1  1 11]\n"
     ]
    },
    {
     "name": "stderr",
     "output_type": "stream",
     "text": [
      "/home/bitai/anaconda3/envs/cheese-ai/lib/python3.7/site-packages/sklearn/utils/validation.py:72: DataConversionWarning: A column-vector y was passed when a 1d array was expected. Please change the shape of y to (n_samples, ), for example using ravel().\n",
      "  return f(**kwargs)\n"
     ]
    },
    {
     "name": "stdout",
     "output_type": "stream",
     "text": [
      "rbf SVM: C: 4, training score: 0.941575, test score: 0.940246\n",
      "[ 1  1  5 ...  1  1 11]\n"
     ]
    },
    {
     "name": "stderr",
     "output_type": "stream",
     "text": [
      "/home/bitai/anaconda3/envs/cheese-ai/lib/python3.7/site-packages/sklearn/utils/validation.py:72: DataConversionWarning: A column-vector y was passed when a 1d array was expected. Please change the shape of y to (n_samples, ), for example using ravel().\n",
      "  return f(**kwargs)\n"
     ]
    },
    {
     "name": "stdout",
     "output_type": "stream",
     "text": [
      "rbf SVM: C: 5, training score: 0.943357, test score: 0.941150\n",
      "[ 1  1  5 ...  1  1 11]\n"
     ]
    },
    {
     "name": "stderr",
     "output_type": "stream",
     "text": [
      "/home/bitai/anaconda3/envs/cheese-ai/lib/python3.7/site-packages/sklearn/utils/validation.py:72: DataConversionWarning: A column-vector y was passed when a 1d array was expected. Please change the shape of y to (n_samples, ), for example using ravel().\n",
      "  return f(**kwargs)\n"
     ]
    },
    {
     "name": "stdout",
     "output_type": "stream",
     "text": [
      "rbf SVM: C: 6, training score: 0.943822, test score: 0.942506\n",
      "[ 1  1  5 ...  1  1 11]\n"
     ]
    },
    {
     "name": "stderr",
     "output_type": "stream",
     "text": [
      "/home/bitai/anaconda3/envs/cheese-ai/lib/python3.7/site-packages/sklearn/utils/validation.py:72: DataConversionWarning: A column-vector y was passed when a 1d array was expected. Please change the shape of y to (n_samples, ), for example using ravel().\n",
      "  return f(**kwargs)\n"
     ]
    },
    {
     "name": "stdout",
     "output_type": "stream",
     "text": [
      "rbf SVM: C: 7, training score: 0.944481, test score: 0.944404\n",
      "[ 1  1  5 ...  1  1 11]\n"
     ]
    },
    {
     "name": "stderr",
     "output_type": "stream",
     "text": [
      "/home/bitai/anaconda3/envs/cheese-ai/lib/python3.7/site-packages/sklearn/utils/validation.py:72: DataConversionWarning: A column-vector y was passed when a 1d array was expected. Please change the shape of y to (n_samples, ), for example using ravel().\n",
      "  return f(**kwargs)\n"
     ]
    },
    {
     "name": "stdout",
     "output_type": "stream",
     "text": [
      "rbf SVM: C: 8, training score: 0.946999, test score: 0.944766\n",
      "[ 1  1  5 ...  1  1 11]\n"
     ]
    },
    {
     "name": "stderr",
     "output_type": "stream",
     "text": [
      "/home/bitai/anaconda3/envs/cheese-ai/lib/python3.7/site-packages/sklearn/utils/validation.py:72: DataConversionWarning: A column-vector y was passed when a 1d array was expected. Please change the shape of y to (n_samples, ), for example using ravel().\n",
      "  return f(**kwargs)\n"
     ]
    },
    {
     "name": "stdout",
     "output_type": "stream",
     "text": [
      "rbf SVM: C: 9, training score: 0.947852, test score: 0.945127\n",
      "[ 1  1  5 ...  1  1 11]\n"
     ]
    },
    {
     "name": "stderr",
     "output_type": "stream",
     "text": [
      "/home/bitai/anaconda3/envs/cheese-ai/lib/python3.7/site-packages/sklearn/utils/validation.py:72: DataConversionWarning: A column-vector y was passed when a 1d array was expected. Please change the shape of y to (n_samples, ), for example using ravel().\n",
      "  return f(**kwargs)\n"
     ]
    },
    {
     "name": "stdout",
     "output_type": "stream",
     "text": [
      "rbf SVM: C: 10, training score: 0.952462, test score: 0.945670\n",
      "[ 1  1  5 ...  1  1 11]\n"
     ]
    },
    {
     "name": "stderr",
     "output_type": "stream",
     "text": [
      "/home/bitai/anaconda3/envs/cheese-ai/lib/python3.7/site-packages/sklearn/utils/validation.py:72: DataConversionWarning: A column-vector y was passed when a 1d array was expected. Please change the shape of y to (n_samples, ), for example using ravel().\n",
      "  return f(**kwargs)\n"
     ]
    },
    {
     "name": "stdout",
     "output_type": "stream",
     "text": [
      "rbf SVM: C: 11, training score: 0.958584, test score: 0.946303\n",
      "[ 1  1  5 ...  1  1 11]\n"
     ]
    },
    {
     "name": "stderr",
     "output_type": "stream",
     "text": [
      "/home/bitai/anaconda3/envs/cheese-ai/lib/python3.7/site-packages/sklearn/utils/validation.py:72: DataConversionWarning: A column-vector y was passed when a 1d array was expected. Please change the shape of y to (n_samples, ), for example using ravel().\n",
      "  return f(**kwargs)\n"
     ]
    },
    {
     "name": "stdout",
     "output_type": "stream",
     "text": [
      "rbf SVM: C: 12, training score: 0.973306, test score: 0.949195\n",
      "[ 1  1  5 ...  1  1 11]\n"
     ]
    },
    {
     "name": "stderr",
     "output_type": "stream",
     "text": [
      "/home/bitai/anaconda3/envs/cheese-ai/lib/python3.7/site-packages/sklearn/utils/validation.py:72: DataConversionWarning: A column-vector y was passed when a 1d array was expected. Please change the shape of y to (n_samples, ), for example using ravel().\n",
      "  return f(**kwargs)\n"
     ]
    },
    {
     "name": "stdout",
     "output_type": "stream",
     "text": [
      "rbf SVM: C: 13, training score: 0.986827, test score: 0.978666\n",
      "[ 1  1  5 ...  1  1 11]\n"
     ]
    },
    {
     "name": "stderr",
     "output_type": "stream",
     "text": [
      "/home/bitai/anaconda3/envs/cheese-ai/lib/python3.7/site-packages/sklearn/utils/validation.py:72: DataConversionWarning: A column-vector y was passed when a 1d array was expected. Please change the shape of y to (n_samples, ), for example using ravel().\n",
      "  return f(**kwargs)\n"
     ]
    },
    {
     "name": "stdout",
     "output_type": "stream",
     "text": [
      "rbf SVM: C: 14, training score: 0.986672, test score: 0.981378\n",
      "[ 1  1  5 ...  1  1 11]\n"
     ]
    },
    {
     "name": "stderr",
     "output_type": "stream",
     "text": [
      "/home/bitai/anaconda3/envs/cheese-ai/lib/python3.7/site-packages/sklearn/utils/validation.py:72: DataConversionWarning: A column-vector y was passed when a 1d array was expected. Please change the shape of y to (n_samples, ), for example using ravel().\n",
      "  return f(**kwargs)\n"
     ]
    },
    {
     "name": "stdout",
     "output_type": "stream",
     "text": [
      "rbf SVM: C: 15, training score: 0.990314, test score: 0.988429\n",
      "[ 1  1  5 ...  1  1 11]\n"
     ]
    },
    {
     "name": "stderr",
     "output_type": "stream",
     "text": [
      "/home/bitai/anaconda3/envs/cheese-ai/lib/python3.7/site-packages/sklearn/utils/validation.py:72: DataConversionWarning: A column-vector y was passed when a 1d array was expected. Please change the shape of y to (n_samples, ), for example using ravel().\n",
      "  return f(**kwargs)\n"
     ]
    },
    {
     "name": "stdout",
     "output_type": "stream",
     "text": [
      "rbf SVM: C: 16, training score: 0.990314, test score: 0.988610\n",
      "[ 1  1  5 ...  1  1 11]\n"
     ]
    },
    {
     "name": "stderr",
     "output_type": "stream",
     "text": [
      "/home/bitai/anaconda3/envs/cheese-ai/lib/python3.7/site-packages/sklearn/utils/validation.py:72: DataConversionWarning: A column-vector y was passed when a 1d array was expected. Please change the shape of y to (n_samples, ), for example using ravel().\n",
      "  return f(**kwargs)\n"
     ]
    },
    {
     "name": "stdout",
     "output_type": "stream",
     "text": [
      "rbf SVM: C: 17, training score: 0.990353, test score: 0.989875\n",
      "[ 1  1  5 ...  1  1 11]\n"
     ]
    },
    {
     "name": "stderr",
     "output_type": "stream",
     "text": [
      "/home/bitai/anaconda3/envs/cheese-ai/lib/python3.7/site-packages/sklearn/utils/validation.py:72: DataConversionWarning: A column-vector y was passed when a 1d array was expected. Please change the shape of y to (n_samples, ), for example using ravel().\n",
      "  return f(**kwargs)\n"
     ]
    },
    {
     "name": "stdout",
     "output_type": "stream",
     "text": [
      "rbf SVM: C: 18, training score: 0.990353, test score: 0.989423\n",
      "[ 1  1  5 ...  1  1 11]\n"
     ]
    },
    {
     "name": "stderr",
     "output_type": "stream",
     "text": [
      "/home/bitai/anaconda3/envs/cheese-ai/lib/python3.7/site-packages/sklearn/utils/validation.py:72: DataConversionWarning: A column-vector y was passed when a 1d array was expected. Please change the shape of y to (n_samples, ), for example using ravel().\n",
      "  return f(**kwargs)\n"
     ]
    },
    {
     "name": "stdout",
     "output_type": "stream",
     "text": [
      "rbf SVM: C: 19, training score: 0.990353, test score: 0.989694\n",
      "[ 1  1  5 ...  1  1 11]\n"
     ]
    },
    {
     "name": "stderr",
     "output_type": "stream",
     "text": [
      "/home/bitai/anaconda3/envs/cheese-ai/lib/python3.7/site-packages/sklearn/utils/validation.py:72: DataConversionWarning: A column-vector y was passed when a 1d array was expected. Please change the shape of y to (n_samples, ), for example using ravel().\n",
      "  return f(**kwargs)\n"
     ]
    },
    {
     "name": "stdout",
     "output_type": "stream",
     "text": [
      "rbf SVM: C: 20, training score: 0.992406, test score: 0.990870\n",
      "[ 1  1  5 ...  1  1 11]\n"
     ]
    },
    {
     "name": "stderr",
     "output_type": "stream",
     "text": [
      "/home/bitai/anaconda3/envs/cheese-ai/lib/python3.7/site-packages/sklearn/utils/validation.py:72: DataConversionWarning: A column-vector y was passed when a 1d array was expected. Please change the shape of y to (n_samples, ), for example using ravel().\n",
      "  return f(**kwargs)\n"
     ]
    },
    {
     "name": "stdout",
     "output_type": "stream",
     "text": [
      "rbf SVM: C: 21, training score: 0.992639, test score: 0.991050\n",
      "[ 1  1  5 ...  1  1 11]\n"
     ]
    },
    {
     "name": "stderr",
     "output_type": "stream",
     "text": [
      "/home/bitai/anaconda3/envs/cheese-ai/lib/python3.7/site-packages/sklearn/utils/validation.py:72: DataConversionWarning: A column-vector y was passed when a 1d array was expected. Please change the shape of y to (n_samples, ), for example using ravel().\n",
      "  return f(**kwargs)\n"
     ]
    },
    {
     "name": "stdout",
     "output_type": "stream",
     "text": [
      "rbf SVM: C: 22, training score: 0.992639, test score: 0.991050\n",
      "[ 1  1  5 ...  1  1 11]\n"
     ]
    },
    {
     "name": "stderr",
     "output_type": "stream",
     "text": [
      "/home/bitai/anaconda3/envs/cheese-ai/lib/python3.7/site-packages/sklearn/utils/validation.py:72: DataConversionWarning: A column-vector y was passed when a 1d array was expected. Please change the shape of y to (n_samples, ), for example using ravel().\n",
      "  return f(**kwargs)\n"
     ]
    },
    {
     "name": "stdout",
     "output_type": "stream",
     "text": [
      "rbf SVM: C: 23, training score: 0.992600, test score: 0.991050\n",
      "[ 1  1  5 ...  1  1 11]\n"
     ]
    },
    {
     "name": "stderr",
     "output_type": "stream",
     "text": [
      "/home/bitai/anaconda3/envs/cheese-ai/lib/python3.7/site-packages/sklearn/utils/validation.py:72: DataConversionWarning: A column-vector y was passed when a 1d array was expected. Please change the shape of y to (n_samples, ), for example using ravel().\n",
      "  return f(**kwargs)\n"
     ]
    },
    {
     "name": "stdout",
     "output_type": "stream",
     "text": [
      "rbf SVM: C: 24, training score: 0.992794, test score: 0.991050\n",
      "[ 1  1  5 ...  1  1 11]\n"
     ]
    },
    {
     "name": "stderr",
     "output_type": "stream",
     "text": [
      "/home/bitai/anaconda3/envs/cheese-ai/lib/python3.7/site-packages/sklearn/utils/validation.py:72: DataConversionWarning: A column-vector y was passed when a 1d array was expected. Please change the shape of y to (n_samples, ), for example using ravel().\n",
      "  return f(**kwargs)\n"
     ]
    },
    {
     "name": "stdout",
     "output_type": "stream",
     "text": [
      "rbf SVM: C: 25, training score: 0.992794, test score: 0.990960\n",
      "[ 1  1  5 ...  1  1 11]\n"
     ]
    },
    {
     "name": "stderr",
     "output_type": "stream",
     "text": [
      "/home/bitai/anaconda3/envs/cheese-ai/lib/python3.7/site-packages/sklearn/utils/validation.py:72: DataConversionWarning: A column-vector y was passed when a 1d array was expected. Please change the shape of y to (n_samples, ), for example using ravel().\n",
      "  return f(**kwargs)\n"
     ]
    },
    {
     "name": "stdout",
     "output_type": "stream",
     "text": [
      "rbf SVM: C: 26, training score: 0.992794, test score: 0.990960\n",
      "[ 1  1  5 ...  1  1 11]\n"
     ]
    },
    {
     "name": "stderr",
     "output_type": "stream",
     "text": [
      "/home/bitai/anaconda3/envs/cheese-ai/lib/python3.7/site-packages/sklearn/utils/validation.py:72: DataConversionWarning: A column-vector y was passed when a 1d array was expected. Please change the shape of y to (n_samples, ), for example using ravel().\n",
      "  return f(**kwargs)\n"
     ]
    },
    {
     "name": "stdout",
     "output_type": "stream",
     "text": [
      "rbf SVM: C: 27, training score: 0.992833, test score: 0.990960\n",
      "[ 1  1  5 ...  1  1 11]\n"
     ]
    },
    {
     "name": "stderr",
     "output_type": "stream",
     "text": [
      "/home/bitai/anaconda3/envs/cheese-ai/lib/python3.7/site-packages/sklearn/utils/validation.py:72: DataConversionWarning: A column-vector y was passed when a 1d array was expected. Please change the shape of y to (n_samples, ), for example using ravel().\n",
      "  return f(**kwargs)\n"
     ]
    },
    {
     "name": "stdout",
     "output_type": "stream",
     "text": [
      "rbf SVM: C: 28, training score: 0.992833, test score: 0.990689\n",
      "[ 1  1  5 ...  1  1 11]\n"
     ]
    },
    {
     "name": "stderr",
     "output_type": "stream",
     "text": [
      "/home/bitai/anaconda3/envs/cheese-ai/lib/python3.7/site-packages/sklearn/utils/validation.py:72: DataConversionWarning: A column-vector y was passed when a 1d array was expected. Please change the shape of y to (n_samples, ), for example using ravel().\n",
      "  return f(**kwargs)\n"
     ]
    },
    {
     "name": "stdout",
     "output_type": "stream",
     "text": [
      "rbf SVM: C: 29, training score: 0.992833, test score: 0.990689\n",
      "[ 1  1  5 ...  1  1 11]\n"
     ]
    }
   ],
   "source": [
    "from sklearn.svm import SVC\n",
    "from sklearn.preprocessing import MinMaxScaler\n",
    "import pickle\n",
    "\n",
    "# 정규화\n",
    "scaler = MinMaxScaler()\n",
    "X_user_train_sc = scaler.fit_transform(X_user_train)\n",
    "X_user_test_sc = scaler.fit_transform(X_user_test)\n",
    "\n",
    "# Rbf SVM을 위한 적절한 C값 검색\n",
    "# 분류: SVC, 회귀(예측): SVR\n",
    "\n",
    "scores = []\n",
    "for thisC in [*range(1, 30)]:\n",
    "    svc = SVC(kernel = 'rbf', C = thisC)\n",
    "    model = svc.fit(X_user_train_sc, y_user_train)\n",
    "    scoreTrain = model.score(X_user_train_sc, y_user_train)\n",
    "    scoreTest = model.score(X_user_test_sc, y_user_test)\n",
    "    print(\"rbf SVM: C: {}, training score: {:2f}, test score: {:2f}\".format(thisC, scoreTrain, scoreTest))\n",
    "    print(model.predict(X_user_test_sc))\n",
    "    scores.append([scoreTrain, scoreTest])\n",
    "    \n",
    "# saved_model = pickle.dumps(model)    \n",
    "# save_file = 'saved_model/model.ckpt'\n",
    "# _ = tf.Variable(initial_value='fake_variable')\n",
    "# saver = tf.train.Saver()\n",
    "# with tf.Session() as sess:\n",
    "#     sess.run(tf.global_variables_initializer())\n",
    "#     for i in range(-30, 50):\n",
    "#         W_val.append(i * 0.1)\n",
    "#         cost_val.append(sess.run(cost, feed_dict={W: i* 0.1}))\n",
    "#     saver.save(sess, save_file)"
   ]
  },
  {
   "cell_type": "code",
   "execution_count": 15,
   "metadata": {
    "scrolled": true
   },
   "outputs": [
    {
     "data": {
      "text/plain": [
       "<AxesSubplot:>"
      ]
     },
     "execution_count": 15,
     "metadata": {},
     "output_type": "execute_result"
    },
    {
     "data": {
      "image/png": "[encoded data removed]",
      "text/plain": [
       "<Figure size 432x288 with 1 Axes>"
      ]
     },
     "metadata": {
      "needs_background": "light"
     },
     "output_type": "display_data"
    }
   ],
   "source": [
    "# C값에 따른 train, test 정확도 비교\n",
    "pd.DataFrame(scores).plot()"
   ]
  },
  {
   "cell_type": "markdown",
   "metadata": {},
   "source": [
    "## prediction (예측값) 확인"
   ]
  },
  {
   "cell_type": "code",
   "execution_count": 21,
   "metadata": {},
   "outputs": [
    {
     "data": {
      "text/plain": [
       "array([ 1,  1,  5, ...,  1,  1, 11])"
      ]
     },
     "execution_count": 21,
     "metadata": {},
     "output_type": "execute_result"
    }
   ],
   "source": [
    "pred_y = model.predict(X_user_test_sc)\n",
    "pred_y"
   ]
  },
  {
   "cell_type": "code",
   "execution_count": 22,
   "metadata": {},
   "outputs": [
    {
     "name": "stdout",
     "output_type": "stream",
     "text": [
      "(11062,)\n",
      "(11062, 1)\n",
      "[[ 1  1  5 ...  1  1 11]]\n"
     ]
    }
   ],
   "source": [
    "print(pred_y.shape)\n",
    "y_user_test_array = y_user_test.to_numpy().T\n",
    "print(y_user_test.shape)\n",
    "print(y_user_test_array)"
   ]
  },
  {
   "cell_type": "markdown",
   "metadata": {},
   "source": [
    "## f1 (재현율) 확인"
   ]
  },
  {
   "cell_type": "code",
   "execution_count": 23,
   "metadata": {},
   "outputs": [
    {
     "name": "stdout",
     "output_type": "stream",
     "text": [
      "accuracy : 0.9906888446935455\n",
      "precision : 0.1043777707409753\n",
      "recall : 0.10463455281326879\n",
      "f1 : 0.10450600404232553\n"
     ]
    },
    {
     "ename": "ValueError",
     "evalue": "Found input variables with inconsistent numbers of samples: [1, 11062]",
     "output_type": "error",
     "traceback": [
      "\u001b[0;31m---------------------------------------------------------------------------\u001b[0m",
      "\u001b[0;31mValueError\u001b[0m                                Traceback (most recent call last)",
      "\u001b[0;32m<ipython-input-23-41e40401cfef>\u001b[0m in \u001b[0;36m<module>\u001b[0;34m\u001b[0m\n\u001b[1;32m     14\u001b[0m \u001b[0;34m\u001b[0m\u001b[0m\n\u001b[1;32m     15\u001b[0m \u001b[0;31m#sklearn을 이용하면 전부 계산해줌\u001b[0m\u001b[0;34m\u001b[0m\u001b[0;34m\u001b[0m\u001b[0;34m\u001b[0m\u001b[0m\n\u001b[0;32m---> 16\u001b[0;31m \u001b[0mprint\u001b[0m\u001b[0;34m(\u001b[0m\u001b[0;34m'accuracy :'\u001b[0m\u001b[0;34m,\u001b[0m \u001b[0mmetrics\u001b[0m\u001b[0;34m.\u001b[0m\u001b[0maccuracy_score\u001b[0m\u001b[0;34m(\u001b[0m\u001b[0my_user_test_array\u001b[0m\u001b[0;34m,\u001b[0m \u001b[0mpred_y\u001b[0m\u001b[0;34m)\u001b[0m\u001b[0;34m)\u001b[0m\u001b[0;34m\u001b[0m\u001b[0;34m\u001b[0m\u001b[0m\n\u001b[0m\u001b[1;32m     17\u001b[0m \u001b[0mprint\u001b[0m\u001b[0;34m(\u001b[0m\u001b[0;34m'precision :'\u001b[0m\u001b[0;34m,\u001b[0m \u001b[0mmetrics\u001b[0m\u001b[0;34m.\u001b[0m\u001b[0mprecision_score\u001b[0m\u001b[0;34m(\u001b[0m\u001b[0my_user_test_array\u001b[0m\u001b[0;34m,\u001b[0m \u001b[0mpred_y\u001b[0m\u001b[0;34m)\u001b[0m\u001b[0;34m)\u001b[0m\u001b[0;34m\u001b[0m\u001b[0;34m\u001b[0m\u001b[0m\n\u001b[1;32m     18\u001b[0m \u001b[0mprint\u001b[0m\u001b[0;34m(\u001b[0m\u001b[0;34m'recall : '\u001b[0m\u001b[0;34m,\u001b[0m \u001b[0mmetrics\u001b[0m\u001b[0;34m.\u001b[0m\u001b[0mrecall_score\u001b[0m\u001b[0;34m(\u001b[0m\u001b[0my_user_test_array\u001b[0m\u001b[0;34m,\u001b[0m \u001b[0mpred_y\u001b[0m\u001b[0;34m)\u001b[0m\u001b[0;34m)\u001b[0m\u001b[0;34m\u001b[0m\u001b[0;34m\u001b[0m\u001b[0m\n",
      "\u001b[0;32m~/anaconda3/envs/cheese-ai/lib/python3.7/site-packages/sklearn/utils/validation.py\u001b[0m in \u001b[0;36minner_f\u001b[0;34m(*args, **kwargs)\u001b[0m\n\u001b[1;32m     70\u001b[0m                           FutureWarning)\n\u001b[1;32m     71\u001b[0m         \u001b[0mkwargs\u001b[0m\u001b[0;34m.\u001b[0m\u001b[0mupdate\u001b[0m\u001b[0;34m(\u001b[0m\u001b[0;34m{\u001b[0m\u001b[0mk\u001b[0m\u001b[0;34m:\u001b[0m \u001b[0marg\u001b[0m \u001b[0;32mfor\u001b[0m \u001b[0mk\u001b[0m\u001b[0;34m,\u001b[0m \u001b[0marg\u001b[0m \u001b[0;32min\u001b[0m \u001b[0mzip\u001b[0m\u001b[0;34m(\u001b[0m\u001b[0msig\u001b[0m\u001b[0;34m.\u001b[0m\u001b[0mparameters\u001b[0m\u001b[0;34m,\u001b[0m \u001b[0margs\u001b[0m\u001b[0;34m)\u001b[0m\u001b[0;34m}\u001b[0m\u001b[0;34m)\u001b[0m\u001b[0;34m\u001b[0m\u001b[0;34m\u001b[0m\u001b[0m\n\u001b[0;32m---> 72\u001b[0;31m         \u001b[0;32mreturn\u001b[0m \u001b[0mf\u001b[0m\u001b[0;34m(\u001b[0m\u001b[0;34m**\u001b[0m\u001b[0mkwargs\u001b[0m\u001b[0;34m)\u001b[0m\u001b[0;34m\u001b[0m\u001b[0;34m\u001b[0m\u001b[0m\n\u001b[0m\u001b[1;32m     73\u001b[0m     \u001b[0;32mreturn\u001b[0m \u001b[0minner_f\u001b[0m\u001b[0;34m\u001b[0m\u001b[0;34m\u001b[0m\u001b[0m\n\u001b[1;32m     74\u001b[0m \u001b[0;34m\u001b[0m\u001b[0m\n",
      "\u001b[0;32m~/anaconda3/envs/cheese-ai/lib/python3.7/site-packages/sklearn/metrics/_classification.py\u001b[0m in \u001b[0;36maccuracy_score\u001b[0;34m(y_true, y_pred, normalize, sample_weight)\u001b[0m\n\u001b[1;32m    185\u001b[0m \u001b[0;34m\u001b[0m\u001b[0m\n\u001b[1;32m    186\u001b[0m     \u001b[0;31m# Compute accuracy for each possible representation\u001b[0m\u001b[0;34m\u001b[0m\u001b[0;34m\u001b[0m\u001b[0;34m\u001b[0m\u001b[0m\n\u001b[0;32m--> 187\u001b[0;31m     \u001b[0my_type\u001b[0m\u001b[0;34m,\u001b[0m \u001b[0my_true\u001b[0m\u001b[0;34m,\u001b[0m \u001b[0my_pred\u001b[0m \u001b[0;34m=\u001b[0m \u001b[0m_check_targets\u001b[0m\u001b[0;34m(\u001b[0m\u001b[0my_true\u001b[0m\u001b[0;34m,\u001b[0m \u001b[0my_pred\u001b[0m\u001b[0;34m)\u001b[0m\u001b[0;34m\u001b[0m\u001b[0;34m\u001b[0m\u001b[0m\n\u001b[0m\u001b[1;32m    188\u001b[0m     \u001b[0mcheck_consistent_length\u001b[0m\u001b[0;34m(\u001b[0m\u001b[0my_true\u001b[0m\u001b[0;34m,\u001b[0m \u001b[0my_pred\u001b[0m\u001b[0;34m,\u001b[0m \u001b[0msample_weight\u001b[0m\u001b[0;34m)\u001b[0m\u001b[0;34m\u001b[0m\u001b[0;34m\u001b[0m\u001b[0m\n\u001b[1;32m    189\u001b[0m     \u001b[0;32mif\u001b[0m \u001b[0my_type\u001b[0m\u001b[0;34m.\u001b[0m\u001b[0mstartswith\u001b[0m\u001b[0;34m(\u001b[0m\u001b[0;34m'multilabel'\u001b[0m\u001b[0;34m)\u001b[0m\u001b[0;34m:\u001b[0m\u001b[0;34m\u001b[0m\u001b[0;34m\u001b[0m\u001b[0m\n",
      "\u001b[0;32m~/anaconda3/envs/cheese-ai/lib/python3.7/site-packages/sklearn/metrics/_classification.py\u001b[0m in \u001b[0;36m_check_targets\u001b[0;34m(y_true, y_pred)\u001b[0m\n\u001b[1;32m     79\u001b[0m     \u001b[0my_pred\u001b[0m \u001b[0;34m:\u001b[0m \u001b[0marray\u001b[0m \u001b[0;32mor\u001b[0m \u001b[0mindicator\u001b[0m \u001b[0mmatrix\u001b[0m\u001b[0;34m\u001b[0m\u001b[0;34m\u001b[0m\u001b[0m\n\u001b[1;32m     80\u001b[0m     \"\"\"\n\u001b[0;32m---> 81\u001b[0;31m     \u001b[0mcheck_consistent_length\u001b[0m\u001b[0;34m(\u001b[0m\u001b[0my_true\u001b[0m\u001b[0;34m,\u001b[0m \u001b[0my_pred\u001b[0m\u001b[0;34m)\u001b[0m\u001b[0;34m\u001b[0m\u001b[0;34m\u001b[0m\u001b[0m\n\u001b[0m\u001b[1;32m     82\u001b[0m     \u001b[0mtype_true\u001b[0m \u001b[0;34m=\u001b[0m \u001b[0mtype_of_target\u001b[0m\u001b[0;34m(\u001b[0m\u001b[0my_true\u001b[0m\u001b[0;34m)\u001b[0m\u001b[0;34m\u001b[0m\u001b[0;34m\u001b[0m\u001b[0m\n\u001b[1;32m     83\u001b[0m     \u001b[0mtype_pred\u001b[0m \u001b[0;34m=\u001b[0m \u001b[0mtype_of_target\u001b[0m\u001b[0;34m(\u001b[0m\u001b[0my_pred\u001b[0m\u001b[0;34m)\u001b[0m\u001b[0;34m\u001b[0m\u001b[0;34m\u001b[0m\u001b[0m\n",
      "\u001b[0;32m~/anaconda3/envs/cheese-ai/lib/python3.7/site-packages/sklearn/utils/validation.py\u001b[0m in \u001b[0;36mcheck_consistent_length\u001b[0;34m(*arrays)\u001b[0m\n\u001b[1;32m    254\u001b[0m     \u001b[0;32mif\u001b[0m \u001b[0mlen\u001b[0m\u001b[0;34m(\u001b[0m\u001b[0muniques\u001b[0m\u001b[0;34m)\u001b[0m \u001b[0;34m>\u001b[0m \u001b[0;36m1\u001b[0m\u001b[0;34m:\u001b[0m\u001b[0;34m\u001b[0m\u001b[0;34m\u001b[0m\u001b[0m\n\u001b[1;32m    255\u001b[0m         raise ValueError(\"Found input variables with inconsistent numbers of\"\n\u001b[0;32m--> 256\u001b[0;31m                          \" samples: %r\" % [int(l) for l in lengths])\n\u001b[0m\u001b[1;32m    257\u001b[0m \u001b[0;34m\u001b[0m\u001b[0m\n\u001b[1;32m    258\u001b[0m \u001b[0;34m\u001b[0m\u001b[0m\n",
      "\u001b[0;31mValueError\u001b[0m: Found input variables with inconsistent numbers of samples: [1, 11062]"
     ]
    }
   ],
   "source": [
    "import numpy as np\n",
    "import sklearn.metrics as metrics\n",
    "\n",
    "accuracy = np.mean(np.equal(y_user_test_array, pred_y))\n",
    "right = np.sum(y_user_test_array * pred_y == 1)\n",
    "precision = right / np.sum(pred_y)\n",
    "recall = right/np.sum(y_user_test_array)\n",
    "f1 = 2 * precision * recall / (precision + recall)\n",
    "\n",
    "print('accuracy :', accuracy)\n",
    "print('precision :', precision)\n",
    "print('recall :', recall)\n",
    "print('f1 :', f1)\n",
    "\n",
    "#sklearn을 이용하면 전부 계산해줌\n",
    "print('accuracy :', metrics.accuracy_score(y_user_test_array, pred_y))\n",
    "print('precision :', metrics.precision_score(y_user_test_array, pred_y))\n",
    "print('recall : ', metrics.recall_score(y_user_test_array, pred_y))\n",
    "print('f1 : ', metrics.f1_score(y_user_test_array, pred_y))\n",
    "\n",
    "print(metrics.classification_report(y_user_test_array, pred_y))\n",
    "print(metics.confusion_matrix(y_user_test_array, pred_y))\n"
   ]
  },
  {
   "cell_type": "code",
   "execution_count": 25,
   "metadata": {},
   "outputs": [
    {
     "ename": "ValueError",
     "evalue": "multiclass-multioutput format is not supported",
     "output_type": "error",
     "traceback": [
      "\u001b[0;31m---------------------------------------------------------------------------\u001b[0m",
      "\u001b[0;31mValueError\u001b[0m                                Traceback (most recent call last)",
      "\u001b[0;32m<ipython-input-25-ba814dd765b4>\u001b[0m in \u001b[0;36m<module>\u001b[0;34m\u001b[0m\n\u001b[0;32m----> 1\u001b[0;31m \u001b[0mroc_auc\u001b[0m \u001b[0;34m=\u001b[0m \u001b[0mmetrics\u001b[0m\u001b[0;34m.\u001b[0m\u001b[0mroc_auc_score\u001b[0m\u001b[0;34m(\u001b[0m\u001b[0my_user_test_array\u001b[0m\u001b[0;34m,\u001b[0m \u001b[0mmodel\u001b[0m\u001b[0;34m.\u001b[0m\u001b[0mdecision_function\u001b[0m\u001b[0;34m(\u001b[0m\u001b[0mX_user_test_sc\u001b[0m\u001b[0;34m)\u001b[0m\u001b[0;34m)\u001b[0m\u001b[0;34m\u001b[0m\u001b[0;34m\u001b[0m\u001b[0m\n\u001b[0m\u001b[1;32m      2\u001b[0m \u001b[0;34m\u001b[0m\u001b[0m\n\u001b[1;32m      3\u001b[0m \u001b[0mplt\u001b[0m\u001b[0;34m.\u001b[0m\u001b[0mtitle\u001b[0m\u001b[0;34m(\u001b[0m\u001b[0;34m'Receiver Operating Characteristic'\u001b[0m\u001b[0;34m)\u001b[0m\u001b[0;34m\u001b[0m\u001b[0;34m\u001b[0m\u001b[0m\n\u001b[1;32m      4\u001b[0m \u001b[0mplt\u001b[0m\u001b[0;34m.\u001b[0m\u001b[0mxlabel\u001b[0m\u001b[0;34m(\u001b[0m\u001b[0;34m'False Positive Rate(1 - Spectificity)'\u001b[0m\u001b[0;34m)\u001b[0m\u001b[0;34m\u001b[0m\u001b[0;34m\u001b[0m\u001b[0m\n\u001b[1;32m      5\u001b[0m \u001b[0mplt\u001b[0m\u001b[0;34m.\u001b[0m\u001b[0mylabel\u001b[0m\u001b[0;34m(\u001b[0m\u001b[0;34m'True Positive Rate(Sensitivity)'\u001b[0m\u001b[0;34m)\u001b[0m\u001b[0;34m\u001b[0m\u001b[0;34m\u001b[0m\u001b[0m\n",
      "\u001b[0;32m~/anaconda3/envs/cheese-ai/lib/python3.7/site-packages/sklearn/utils/validation.py\u001b[0m in \u001b[0;36minner_f\u001b[0;34m(*args, **kwargs)\u001b[0m\n\u001b[1;32m     70\u001b[0m                           FutureWarning)\n\u001b[1;32m     71\u001b[0m         \u001b[0mkwargs\u001b[0m\u001b[0;34m.\u001b[0m\u001b[0mupdate\u001b[0m\u001b[0;34m(\u001b[0m\u001b[0;34m{\u001b[0m\u001b[0mk\u001b[0m\u001b[0;34m:\u001b[0m \u001b[0marg\u001b[0m \u001b[0;32mfor\u001b[0m \u001b[0mk\u001b[0m\u001b[0;34m,\u001b[0m \u001b[0marg\u001b[0m \u001b[0;32min\u001b[0m \u001b[0mzip\u001b[0m\u001b[0;34m(\u001b[0m\u001b[0msig\u001b[0m\u001b[0;34m.\u001b[0m\u001b[0mparameters\u001b[0m\u001b[0;34m,\u001b[0m \u001b[0margs\u001b[0m\u001b[0;34m)\u001b[0m\u001b[0;34m}\u001b[0m\u001b[0;34m)\u001b[0m\u001b[0;34m\u001b[0m\u001b[0;34m\u001b[0m\u001b[0m\n\u001b[0;32m---> 72\u001b[0;31m         \u001b[0;32mreturn\u001b[0m \u001b[0mf\u001b[0m\u001b[0;34m(\u001b[0m\u001b[0;34m**\u001b[0m\u001b[0mkwargs\u001b[0m\u001b[0;34m)\u001b[0m\u001b[0;34m\u001b[0m\u001b[0;34m\u001b[0m\u001b[0m\n\u001b[0m\u001b[1;32m     73\u001b[0m     \u001b[0;32mreturn\u001b[0m \u001b[0minner_f\u001b[0m\u001b[0;34m\u001b[0m\u001b[0;34m\u001b[0m\u001b[0m\n\u001b[1;32m     74\u001b[0m \u001b[0;34m\u001b[0m\u001b[0m\n",
      "\u001b[0;32m~/anaconda3/envs/cheese-ai/lib/python3.7/site-packages/sklearn/metrics/_ranking.py\u001b[0m in \u001b[0;36mroc_auc_score\u001b[0;34m(y_true, y_score, average, sample_weight, max_fpr, multi_class, labels)\u001b[0m\n\u001b[1;32m    396\u001b[0m                                              max_fpr=max_fpr),\n\u001b[1;32m    397\u001b[0m                                      \u001b[0my_true\u001b[0m\u001b[0;34m,\u001b[0m \u001b[0my_score\u001b[0m\u001b[0;34m,\u001b[0m \u001b[0maverage\u001b[0m\u001b[0;34m,\u001b[0m\u001b[0;34m\u001b[0m\u001b[0;34m\u001b[0m\u001b[0m\n\u001b[0;32m--> 398\u001b[0;31m                                      sample_weight=sample_weight)\n\u001b[0m\u001b[1;32m    399\u001b[0m \u001b[0;34m\u001b[0m\u001b[0m\n\u001b[1;32m    400\u001b[0m \u001b[0;34m\u001b[0m\u001b[0m\n",
      "\u001b[0;32m~/anaconda3/envs/cheese-ai/lib/python3.7/site-packages/sklearn/metrics/_base.py\u001b[0m in \u001b[0;36m_average_binary_score\u001b[0;34m(binary_metric, y_true, y_score, average, sample_weight)\u001b[0m\n\u001b[1;32m     72\u001b[0m     \u001b[0my_type\u001b[0m \u001b[0;34m=\u001b[0m \u001b[0mtype_of_target\u001b[0m\u001b[0;34m(\u001b[0m\u001b[0my_true\u001b[0m\u001b[0;34m)\u001b[0m\u001b[0;34m\u001b[0m\u001b[0;34m\u001b[0m\u001b[0m\n\u001b[1;32m     73\u001b[0m     \u001b[0;32mif\u001b[0m \u001b[0my_type\u001b[0m \u001b[0;32mnot\u001b[0m \u001b[0;32min\u001b[0m \u001b[0;34m(\u001b[0m\u001b[0;34m\"binary\"\u001b[0m\u001b[0;34m,\u001b[0m \u001b[0;34m\"multilabel-indicator\"\u001b[0m\u001b[0;34m)\u001b[0m\u001b[0;34m:\u001b[0m\u001b[0;34m\u001b[0m\u001b[0;34m\u001b[0m\u001b[0m\n\u001b[0;32m---> 74\u001b[0;31m         \u001b[0;32mraise\u001b[0m \u001b[0mValueError\u001b[0m\u001b[0;34m(\u001b[0m\u001b[0;34m\"{0} format is not supported\"\u001b[0m\u001b[0;34m.\u001b[0m\u001b[0mformat\u001b[0m\u001b[0;34m(\u001b[0m\u001b[0my_type\u001b[0m\u001b[0;34m)\u001b[0m\u001b[0;34m)\u001b[0m\u001b[0;34m\u001b[0m\u001b[0;34m\u001b[0m\u001b[0m\n\u001b[0m\u001b[1;32m     75\u001b[0m \u001b[0;34m\u001b[0m\u001b[0m\n\u001b[1;32m     76\u001b[0m     \u001b[0;32mif\u001b[0m \u001b[0my_type\u001b[0m \u001b[0;34m==\u001b[0m \u001b[0;34m\"binary\"\u001b[0m\u001b[0;34m:\u001b[0m\u001b[0;34m\u001b[0m\u001b[0;34m\u001b[0m\u001b[0m\n",
      "\u001b[0;31mValueError\u001b[0m: multiclass-multioutput format is not supported"
     ]
    }
   ],
   "source": [
    "roc_auc = metrics.roc_auc_score(y_user_test_array, model.decision_function(X_user_test_sc))\n",
    "\n",
    "plt.title('Receiver Operating Characteristic')\n",
    "plt.xlabel('False Positive Rate(1 - Spectificity)')\n",
    "plt.ylabel('True Positive Rate(Sensitivity)')\n",
    "\n",
    "plt.plot(false_positive_rate, true_positive_rate, 'b', label = 'Model (Auc = %0.2f)'% roc_auc)\n",
    "plt.plot([0,1], [1,1], 'y--')\n",
    "plt.plot([0,1], [0,1], 'r--')\n",
    "\n",
    "plt.legend(loc = 'lower right')\n",
    "plt.show()"
   ]
  },
  {
   "cell_type": "markdown",
   "metadata": {},
   "source": [
    "## SVM 모델 Cross Validation"
   ]
  },
  {
   "cell_type": "code",
   "execution_count": null,
   "metadata": {},
   "outputs": [],
   "source": [
    "from sklearn.model_selection import cross_val_score, StratifiedKFold\n",
    "\n",
    "modle = SVC(kernel = 'linear', C = 10).fit(X_user_train_std, y_user_train)\n",
    "scores = cross_val_score(model, X_user_train_std, y_user_train, cv = 5)\n",
    "print(\"CV 점수 : \" + str(scores))\n",
    "st_scores = cross_val_score(model, X_user_train_std, y_user_train, cv = StratifiedKFold(5, random_state = 10, shuffle = True))\n",
    "print()\n",
    "print(\"CV 평균점수 : \" + str(scores.mean()))\n",
    "print(\"StratifiedKFold CV 평균점수 : \" + str(st_scores.mean()))"
   ]
  },
  {
   "cell_type": "code",
   "execution_count": 16,
   "metadata": {},
   "outputs": [
    {
     "name": "stderr",
     "output_type": "stream",
     "text": [
      "/home/bitai/anaconda3/envs/cheese-ai/lib/python3.7/site-packages/sklearn/utils/validation.py:72: DataConversionWarning: A column-vector y was passed when a 1d array was expected. Please change the shape of y to (n_samples, ), for example using ravel().\n",
      "  return f(**kwargs)\n",
      "/home/bitai/anaconda3/envs/cheese-ai/lib/python3.7/site-packages/sklearn/utils/validation.py:72: DataConversionWarning: A column-vector y was passed when a 1d array was expected. Please change the shape of y to (n_samples, ), for example using ravel().\n",
      "  return f(**kwargs)\n",
      "/home/bitai/anaconda3/envs/cheese-ai/lib/python3.7/site-packages/sklearn/utils/validation.py:72: DataConversionWarning: A column-vector y was passed when a 1d array was expected. Please change the shape of y to (n_samples, ), for example using ravel().\n",
      "  return f(**kwargs)\n",
      "/home/bitai/anaconda3/envs/cheese-ai/lib/python3.7/site-packages/sklearn/utils/validation.py:72: DataConversionWarning: A column-vector y was passed when a 1d array was expected. Please change the shape of y to (n_samples, ), for example using ravel().\n",
      "  return f(**kwargs)\n",
      "/home/bitai/anaconda3/envs/cheese-ai/lib/python3.7/site-packages/sklearn/utils/validation.py:72: DataConversionWarning: A column-vector y was passed when a 1d array was expected. Please change the shape of y to (n_samples, ), for example using ravel().\n",
      "  return f(**kwargs)\n",
      "/home/bitai/anaconda3/envs/cheese-ai/lib/python3.7/site-packages/sklearn/utils/validation.py:72: DataConversionWarning: A column-vector y was passed when a 1d array was expected. Please change the shape of y to (n_samples, ), for example using ravel().\n",
      "  return f(**kwargs)\n"
     ]
    },
    {
     "name": "stdout",
     "output_type": "stream",
     "text": [
      "CV 점수 : [0.99670734 0.99302596 0.99476947 0.99244479 0.99457575]\n"
     ]
    },
    {
     "name": "stderr",
     "output_type": "stream",
     "text": [
      "/home/bitai/anaconda3/envs/cheese-ai/lib/python3.7/site-packages/sklearn/utils/validation.py:72: DataConversionWarning: A column-vector y was passed when a 1d array was expected. Please change the shape of y to (n_samples, ), for example using ravel().\n",
      "  return f(**kwargs)\n",
      "/home/bitai/anaconda3/envs/cheese-ai/lib/python3.7/site-packages/sklearn/utils/validation.py:72: DataConversionWarning: A column-vector y was passed when a 1d array was expected. Please change the shape of y to (n_samples, ), for example using ravel().\n",
      "  return f(**kwargs)\n",
      "/home/bitai/anaconda3/envs/cheese-ai/lib/python3.7/site-packages/sklearn/utils/validation.py:72: DataConversionWarning: A column-vector y was passed when a 1d array was expected. Please change the shape of y to (n_samples, ), for example using ravel().\n",
      "  return f(**kwargs)\n",
      "/home/bitai/anaconda3/envs/cheese-ai/lib/python3.7/site-packages/sklearn/utils/validation.py:72: DataConversionWarning: A column-vector y was passed when a 1d array was expected. Please change the shape of y to (n_samples, ), for example using ravel().\n",
      "  return f(**kwargs)\n",
      "/home/bitai/anaconda3/envs/cheese-ai/lib/python3.7/site-packages/sklearn/utils/validation.py:72: DataConversionWarning: A column-vector y was passed when a 1d array was expected. Please change the shape of y to (n_samples, ), for example using ravel().\n",
      "  return f(**kwargs)\n"
     ]
    },
    {
     "name": "stdout",
     "output_type": "stream",
     "text": [
      "\n",
      "CV 평균점수 : 0.9943046606997019\n",
      "StratifiedKFold CV 평균점수 : 0.9943046682039964\n"
     ]
    }
   ],
   "source": [
    "from sklearn.model_selection import cross_val_score, StratifiedKFold\n",
    "\n",
    "modle = SVC(kernel = 'rbf', C = 10).fit(X_user_train_std, y_user_train)\n",
    "scores = cross_val_score(model, X_user_train_sc, y_user_train, cv = 5)\n",
    "print(\"CV 점수 : \" + str(scores))\n",
    "st_scores = cross_val_score(model, X_user_train_std, y_user_train, cv = StratifiedKFold(5, random_state = 10, shuffle = True))\n",
    "print()\n",
    "print(\"CV 평균점수 : \" + str(scores.mean()))\n",
    "print(\"StratifiedKFold CV 평균점수 : \" + str(st_scores.mean()))"
   ]
  },
  {
   "cell_type": "markdown",
   "metadata": {},
   "source": [
    "## GridSearchCV"
   ]
  },
  {
   "cell_type": "code",
   "execution_count": 17,
   "metadata": {},
   "outputs": [
    {
     "name": "stderr",
     "output_type": "stream",
     "text": [
      "/home/bitai/anaconda3/envs/cheese-ai/lib/python3.7/site-packages/sklearn/utils/validation.py:72: DataConversionWarning: A column-vector y was passed when a 1d array was expected. Please change the shape of y to (n_samples, ), for example using ravel().\n",
      "  return f(**kwargs)\n",
      "/home/bitai/anaconda3/envs/cheese-ai/lib/python3.7/site-packages/sklearn/utils/validation.py:72: DataConversionWarning: A column-vector y was passed when a 1d array was expected. Please change the shape of y to (n_samples, ), for example using ravel().\n",
      "  return f(**kwargs)\n",
      "/home/bitai/anaconda3/envs/cheese-ai/lib/python3.7/site-packages/sklearn/utils/validation.py:72: DataConversionWarning: A column-vector y was passed when a 1d array was expected. Please change the shape of y to (n_samples, ), for example using ravel().\n",
      "  return f(**kwargs)\n",
      "/home/bitai/anaconda3/envs/cheese-ai/lib/python3.7/site-packages/sklearn/utils/validation.py:72: DataConversionWarning: A column-vector y was passed when a 1d array was expected. Please change the shape of y to (n_samples, ), for example using ravel().\n",
      "  return f(**kwargs)\n",
      "/home/bitai/anaconda3/envs/cheese-ai/lib/python3.7/site-packages/sklearn/utils/validation.py:72: DataConversionWarning: A column-vector y was passed when a 1d array was expected. Please change the shape of y to (n_samples, ), for example using ravel().\n",
      "  return f(**kwargs)\n",
      "/home/bitai/anaconda3/envs/cheese-ai/lib/python3.7/site-packages/sklearn/utils/validation.py:72: DataConversionWarning: A column-vector y was passed when a 1d array was expected. Please change the shape of y to (n_samples, ), for example using ravel().\n",
      "  return f(**kwargs)\n",
      "/home/bitai/anaconda3/envs/cheese-ai/lib/python3.7/site-packages/sklearn/utils/validation.py:72: DataConversionWarning: A column-vector y was passed when a 1d array was expected. Please change the shape of y to (n_samples, ), for example using ravel().\n",
      "  return f(**kwargs)\n",
      "/home/bitai/anaconda3/envs/cheese-ai/lib/python3.7/site-packages/sklearn/utils/validation.py:72: DataConversionWarning: A column-vector y was passed when a 1d array was expected. Please change the shape of y to (n_samples, ), for example using ravel().\n",
      "  return f(**kwargs)\n",
      "/home/bitai/anaconda3/envs/cheese-ai/lib/python3.7/site-packages/sklearn/utils/validation.py:72: DataConversionWarning: A column-vector y was passed when a 1d array was expected. Please change the shape of y to (n_samples, ), for example using ravel().\n",
      "  return f(**kwargs)\n",
      "/home/bitai/anaconda3/envs/cheese-ai/lib/python3.7/site-packages/sklearn/utils/validation.py:72: DataConversionWarning: A column-vector y was passed when a 1d array was expected. Please change the shape of y to (n_samples, ), for example using ravel().\n",
      "  return f(**kwargs)\n",
      "/home/bitai/anaconda3/envs/cheese-ai/lib/python3.7/site-packages/sklearn/utils/validation.py:72: DataConversionWarning: A column-vector y was passed when a 1d array was expected. Please change the shape of y to (n_samples, ), for example using ravel().\n",
      "  return f(**kwargs)\n",
      "/home/bitai/anaconda3/envs/cheese-ai/lib/python3.7/site-packages/sklearn/utils/validation.py:72: DataConversionWarning: A column-vector y was passed when a 1d array was expected. Please change the shape of y to (n_samples, ), for example using ravel().\n",
      "  return f(**kwargs)\n",
      "/home/bitai/anaconda3/envs/cheese-ai/lib/python3.7/site-packages/sklearn/utils/validation.py:72: DataConversionWarning: A column-vector y was passed when a 1d array was expected. Please change the shape of y to (n_samples, ), for example using ravel().\n",
      "  return f(**kwargs)\n",
      "/home/bitai/anaconda3/envs/cheese-ai/lib/python3.7/site-packages/sklearn/utils/validation.py:72: DataConversionWarning: A column-vector y was passed when a 1d array was expected. Please change the shape of y to (n_samples, ), for example using ravel().\n",
      "  return f(**kwargs)\n",
      "/home/bitai/anaconda3/envs/cheese-ai/lib/python3.7/site-packages/sklearn/utils/validation.py:72: DataConversionWarning: A column-vector y was passed when a 1d array was expected. Please change the shape of y to (n_samples, ), for example using ravel().\n",
      "  return f(**kwargs)\n",
      "/home/bitai/anaconda3/envs/cheese-ai/lib/python3.7/site-packages/sklearn/utils/validation.py:72: DataConversionWarning: A column-vector y was passed when a 1d array was expected. Please change the shape of y to (n_samples, ), for example using ravel().\n",
      "  return f(**kwargs)\n",
      "/home/bitai/anaconda3/envs/cheese-ai/lib/python3.7/site-packages/sklearn/utils/validation.py:72: DataConversionWarning: A column-vector y was passed when a 1d array was expected. Please change the shape of y to (n_samples, ), for example using ravel().\n",
      "  return f(**kwargs)\n",
      "/home/bitai/anaconda3/envs/cheese-ai/lib/python3.7/site-packages/sklearn/utils/validation.py:72: DataConversionWarning: A column-vector y was passed when a 1d array was expected. Please change the shape of y to (n_samples, ), for example using ravel().\n",
      "  return f(**kwargs)\n",
      "/home/bitai/anaconda3/envs/cheese-ai/lib/python3.7/site-packages/sklearn/utils/validation.py:72: DataConversionWarning: A column-vector y was passed when a 1d array was expected. Please change the shape of y to (n_samples, ), for example using ravel().\n",
      "  return f(**kwargs)\n",
      "/home/bitai/anaconda3/envs/cheese-ai/lib/python3.7/site-packages/sklearn/utils/validation.py:72: DataConversionWarning: A column-vector y was passed when a 1d array was expected. Please change the shape of y to (n_samples, ), for example using ravel().\n",
      "  return f(**kwargs)\n",
      "/home/bitai/anaconda3/envs/cheese-ai/lib/python3.7/site-packages/sklearn/utils/validation.py:72: DataConversionWarning: A column-vector y was passed when a 1d array was expected. Please change the shape of y to (n_samples, ), for example using ravel().\n",
      "  return f(**kwargs)\n",
      "/home/bitai/anaconda3/envs/cheese-ai/lib/python3.7/site-packages/sklearn/utils/validation.py:72: DataConversionWarning: A column-vector y was passed when a 1d array was expected. Please change the shape of y to (n_samples, ), for example using ravel().\n",
      "  return f(**kwargs)\n",
      "/home/bitai/anaconda3/envs/cheese-ai/lib/python3.7/site-packages/sklearn/utils/validation.py:72: DataConversionWarning: A column-vector y was passed when a 1d array was expected. Please change the shape of y to (n_samples, ), for example using ravel().\n",
      "  return f(**kwargs)\n",
      "/home/bitai/anaconda3/envs/cheese-ai/lib/python3.7/site-packages/sklearn/utils/validation.py:72: DataConversionWarning: A column-vector y was passed when a 1d array was expected. Please change the shape of y to (n_samples, ), for example using ravel().\n",
      "  return f(**kwargs)\n",
      "/home/bitai/anaconda3/envs/cheese-ai/lib/python3.7/site-packages/sklearn/utils/validation.py:72: DataConversionWarning: A column-vector y was passed when a 1d array was expected. Please change the shape of y to (n_samples, ), for example using ravel().\n",
      "  return f(**kwargs)\n",
      "/home/bitai/anaconda3/envs/cheese-ai/lib/python3.7/site-packages/sklearn/utils/validation.py:72: DataConversionWarning: A column-vector y was passed when a 1d array was expected. Please change the shape of y to (n_samples, ), for example using ravel().\n",
      "  return f(**kwargs)\n",
      "/home/bitai/anaconda3/envs/cheese-ai/lib/python3.7/site-packages/sklearn/utils/validation.py:72: DataConversionWarning: A column-vector y was passed when a 1d array was expected. Please change the shape of y to (n_samples, ), for example using ravel().\n",
      "  return f(**kwargs)\n",
      "/home/bitai/anaconda3/envs/cheese-ai/lib/python3.7/site-packages/sklearn/utils/validation.py:72: DataConversionWarning: A column-vector y was passed when a 1d array was expected. Please change the shape of y to (n_samples, ), for example using ravel().\n",
      "  return f(**kwargs)\n",
      "/home/bitai/anaconda3/envs/cheese-ai/lib/python3.7/site-packages/sklearn/utils/validation.py:72: DataConversionWarning: A column-vector y was passed when a 1d array was expected. Please change the shape of y to (n_samples, ), for example using ravel().\n",
      "  return f(**kwargs)\n",
      "/home/bitai/anaconda3/envs/cheese-ai/lib/python3.7/site-packages/sklearn/utils/validation.py:72: DataConversionWarning: A column-vector y was passed when a 1d array was expected. Please change the shape of y to (n_samples, ), for example using ravel().\n",
      "  return f(**kwargs)\n"
     ]
    },
    {
     "name": "stderr",
     "output_type": "stream",
     "text": [
      "/home/bitai/anaconda3/envs/cheese-ai/lib/python3.7/site-packages/sklearn/utils/validation.py:72: DataConversionWarning: A column-vector y was passed when a 1d array was expected. Please change the shape of y to (n_samples, ), for example using ravel().\n",
      "  return f(**kwargs)\n",
      "/home/bitai/anaconda3/envs/cheese-ai/lib/python3.7/site-packages/sklearn/utils/validation.py:72: DataConversionWarning: A column-vector y was passed when a 1d array was expected. Please change the shape of y to (n_samples, ), for example using ravel().\n",
      "  return f(**kwargs)\n",
      "/home/bitai/anaconda3/envs/cheese-ai/lib/python3.7/site-packages/sklearn/utils/validation.py:72: DataConversionWarning: A column-vector y was passed when a 1d array was expected. Please change the shape of y to (n_samples, ), for example using ravel().\n",
      "  return f(**kwargs)\n",
      "/home/bitai/anaconda3/envs/cheese-ai/lib/python3.7/site-packages/sklearn/utils/validation.py:72: DataConversionWarning: A column-vector y was passed when a 1d array was expected. Please change the shape of y to (n_samples, ), for example using ravel().\n",
      "  return f(**kwargs)\n",
      "/home/bitai/anaconda3/envs/cheese-ai/lib/python3.7/site-packages/sklearn/utils/validation.py:72: DataConversionWarning: A column-vector y was passed when a 1d array was expected. Please change the shape of y to (n_samples, ), for example using ravel().\n",
      "  return f(**kwargs)\n",
      "/home/bitai/anaconda3/envs/cheese-ai/lib/python3.7/site-packages/sklearn/utils/validation.py:72: DataConversionWarning: A column-vector y was passed when a 1d array was expected. Please change the shape of y to (n_samples, ), for example using ravel().\n",
      "  return f(**kwargs)\n",
      "/home/bitai/anaconda3/envs/cheese-ai/lib/python3.7/site-packages/sklearn/utils/validation.py:72: DataConversionWarning: A column-vector y was passed when a 1d array was expected. Please change the shape of y to (n_samples, ), for example using ravel().\n",
      "  return f(**kwargs)\n",
      "/home/bitai/anaconda3/envs/cheese-ai/lib/python3.7/site-packages/sklearn/utils/validation.py:72: DataConversionWarning: A column-vector y was passed when a 1d array was expected. Please change the shape of y to (n_samples, ), for example using ravel().\n",
      "  return f(**kwargs)\n",
      "/home/bitai/anaconda3/envs/cheese-ai/lib/python3.7/site-packages/sklearn/utils/validation.py:72: DataConversionWarning: A column-vector y was passed when a 1d array was expected. Please change the shape of y to (n_samples, ), for example using ravel().\n",
      "  return f(**kwargs)\n",
      "/home/bitai/anaconda3/envs/cheese-ai/lib/python3.7/site-packages/sklearn/utils/validation.py:72: DataConversionWarning: A column-vector y was passed when a 1d array was expected. Please change the shape of y to (n_samples, ), for example using ravel().\n",
      "  return f(**kwargs)\n",
      "/home/bitai/anaconda3/envs/cheese-ai/lib/python3.7/site-packages/sklearn/utils/validation.py:72: DataConversionWarning: A column-vector y was passed when a 1d array was expected. Please change the shape of y to (n_samples, ), for example using ravel().\n",
      "  return f(**kwargs)\n",
      "/home/bitai/anaconda3/envs/cheese-ai/lib/python3.7/site-packages/sklearn/utils/validation.py:72: DataConversionWarning: A column-vector y was passed when a 1d array was expected. Please change the shape of y to (n_samples, ), for example using ravel().\n",
      "  return f(**kwargs)\n",
      "/home/bitai/anaconda3/envs/cheese-ai/lib/python3.7/site-packages/sklearn/utils/validation.py:72: DataConversionWarning: A column-vector y was passed when a 1d array was expected. Please change the shape of y to (n_samples, ), for example using ravel().\n",
      "  return f(**kwargs)\n",
      "/home/bitai/anaconda3/envs/cheese-ai/lib/python3.7/site-packages/sklearn/utils/validation.py:72: DataConversionWarning: A column-vector y was passed when a 1d array was expected. Please change the shape of y to (n_samples, ), for example using ravel().\n",
      "  return f(**kwargs)\n",
      "/home/bitai/anaconda3/envs/cheese-ai/lib/python3.7/site-packages/sklearn/utils/validation.py:72: DataConversionWarning: A column-vector y was passed when a 1d array was expected. Please change the shape of y to (n_samples, ), for example using ravel().\n",
      "  return f(**kwargs)\n",
      "/home/bitai/anaconda3/envs/cheese-ai/lib/python3.7/site-packages/sklearn/utils/validation.py:72: DataConversionWarning: A column-vector y was passed when a 1d array was expected. Please change the shape of y to (n_samples, ), for example using ravel().\n",
      "  return f(**kwargs)\n",
      "/home/bitai/anaconda3/envs/cheese-ai/lib/python3.7/site-packages/sklearn/utils/validation.py:72: DataConversionWarning: A column-vector y was passed when a 1d array was expected. Please change the shape of y to (n_samples, ), for example using ravel().\n",
      "  return f(**kwargs)\n",
      "/home/bitai/anaconda3/envs/cheese-ai/lib/python3.7/site-packages/sklearn/utils/validation.py:72: DataConversionWarning: A column-vector y was passed when a 1d array was expected. Please change the shape of y to (n_samples, ), for example using ravel().\n",
      "  return f(**kwargs)\n",
      "/home/bitai/anaconda3/envs/cheese-ai/lib/python3.7/site-packages/sklearn/utils/validation.py:72: DataConversionWarning: A column-vector y was passed when a 1d array was expected. Please change the shape of y to (n_samples, ), for example using ravel().\n",
      "  return f(**kwargs)\n",
      "/home/bitai/anaconda3/envs/cheese-ai/lib/python3.7/site-packages/sklearn/utils/validation.py:72: DataConversionWarning: A column-vector y was passed when a 1d array was expected. Please change the shape of y to (n_samples, ), for example using ravel().\n",
      "  return f(**kwargs)\n",
      "/home/bitai/anaconda3/envs/cheese-ai/lib/python3.7/site-packages/sklearn/utils/validation.py:72: DataConversionWarning: A column-vector y was passed when a 1d array was expected. Please change the shape of y to (n_samples, ), for example using ravel().\n",
      "  return f(**kwargs)\n",
      "/home/bitai/anaconda3/envs/cheese-ai/lib/python3.7/site-packages/sklearn/utils/validation.py:72: DataConversionWarning: A column-vector y was passed when a 1d array was expected. Please change the shape of y to (n_samples, ), for example using ravel().\n",
      "  return f(**kwargs)\n",
      "/home/bitai/anaconda3/envs/cheese-ai/lib/python3.7/site-packages/sklearn/utils/validation.py:72: DataConversionWarning: A column-vector y was passed when a 1d array was expected. Please change the shape of y to (n_samples, ), for example using ravel().\n",
      "  return f(**kwargs)\n",
      "/home/bitai/anaconda3/envs/cheese-ai/lib/python3.7/site-packages/sklearn/utils/validation.py:72: DataConversionWarning: A column-vector y was passed when a 1d array was expected. Please change the shape of y to (n_samples, ), for example using ravel().\n",
      "  return f(**kwargs)\n",
      "/home/bitai/anaconda3/envs/cheese-ai/lib/python3.7/site-packages/sklearn/utils/validation.py:72: DataConversionWarning: A column-vector y was passed when a 1d array was expected. Please change the shape of y to (n_samples, ), for example using ravel().\n",
      "  return f(**kwargs)\n",
      "/home/bitai/anaconda3/envs/cheese-ai/lib/python3.7/site-packages/sklearn/utils/validation.py:72: DataConversionWarning: A column-vector y was passed when a 1d array was expected. Please change the shape of y to (n_samples, ), for example using ravel().\n",
      "  return f(**kwargs)\n",
      "/home/bitai/anaconda3/envs/cheese-ai/lib/python3.7/site-packages/sklearn/utils/validation.py:72: DataConversionWarning: A column-vector y was passed when a 1d array was expected. Please change the shape of y to (n_samples, ), for example using ravel().\n",
      "  return f(**kwargs)\n",
      "/home/bitai/anaconda3/envs/cheese-ai/lib/python3.7/site-packages/sklearn/utils/validation.py:72: DataConversionWarning: A column-vector y was passed when a 1d array was expected. Please change the shape of y to (n_samples, ), for example using ravel().\n",
      "  return f(**kwargs)\n",
      "/home/bitai/anaconda3/envs/cheese-ai/lib/python3.7/site-packages/sklearn/utils/validation.py:72: DataConversionWarning: A column-vector y was passed when a 1d array was expected. Please change the shape of y to (n_samples, ), for example using ravel().\n",
      "  return f(**kwargs)\n",
      "/home/bitai/anaconda3/envs/cheese-ai/lib/python3.7/site-packages/sklearn/utils/validation.py:72: DataConversionWarning: A column-vector y was passed when a 1d array was expected. Please change the shape of y to (n_samples, ), for example using ravel().\n",
      "  return f(**kwargs)\n"
     ]
    },
    {
     "name": "stderr",
     "output_type": "stream",
     "text": [
      "/home/bitai/anaconda3/envs/cheese-ai/lib/python3.7/site-packages/sklearn/utils/validation.py:72: DataConversionWarning: A column-vector y was passed when a 1d array was expected. Please change the shape of y to (n_samples, ), for example using ravel().\n",
      "  return f(**kwargs)\n",
      "/home/bitai/anaconda3/envs/cheese-ai/lib/python3.7/site-packages/sklearn/utils/validation.py:72: DataConversionWarning: A column-vector y was passed when a 1d array was expected. Please change the shape of y to (n_samples, ), for example using ravel().\n",
      "  return f(**kwargs)\n",
      "/home/bitai/anaconda3/envs/cheese-ai/lib/python3.7/site-packages/sklearn/utils/validation.py:72: DataConversionWarning: A column-vector y was passed when a 1d array was expected. Please change the shape of y to (n_samples, ), for example using ravel().\n",
      "  return f(**kwargs)\n",
      "/home/bitai/anaconda3/envs/cheese-ai/lib/python3.7/site-packages/sklearn/utils/validation.py:72: DataConversionWarning: A column-vector y was passed when a 1d array was expected. Please change the shape of y to (n_samples, ), for example using ravel().\n",
      "  return f(**kwargs)\n",
      "/home/bitai/anaconda3/envs/cheese-ai/lib/python3.7/site-packages/sklearn/utils/validation.py:72: DataConversionWarning: A column-vector y was passed when a 1d array was expected. Please change the shape of y to (n_samples, ), for example using ravel().\n",
      "  return f(**kwargs)\n",
      "/home/bitai/anaconda3/envs/cheese-ai/lib/python3.7/site-packages/sklearn/utils/validation.py:72: DataConversionWarning: A column-vector y was passed when a 1d array was expected. Please change the shape of y to (n_samples, ), for example using ravel().\n",
      "  return f(**kwargs)\n",
      "/home/bitai/anaconda3/envs/cheese-ai/lib/python3.7/site-packages/sklearn/utils/validation.py:72: DataConversionWarning: A column-vector y was passed when a 1d array was expected. Please change the shape of y to (n_samples, ), for example using ravel().\n",
      "  return f(**kwargs)\n",
      "/home/bitai/anaconda3/envs/cheese-ai/lib/python3.7/site-packages/sklearn/utils/validation.py:72: DataConversionWarning: A column-vector y was passed when a 1d array was expected. Please change the shape of y to (n_samples, ), for example using ravel().\n",
      "  return f(**kwargs)\n",
      "/home/bitai/anaconda3/envs/cheese-ai/lib/python3.7/site-packages/sklearn/utils/validation.py:72: DataConversionWarning: A column-vector y was passed when a 1d array was expected. Please change the shape of y to (n_samples, ), for example using ravel().\n",
      "  return f(**kwargs)\n",
      "/home/bitai/anaconda3/envs/cheese-ai/lib/python3.7/site-packages/sklearn/utils/validation.py:72: DataConversionWarning: A column-vector y was passed when a 1d array was expected. Please change the shape of y to (n_samples, ), for example using ravel().\n",
      "  return f(**kwargs)\n",
      "/home/bitai/anaconda3/envs/cheese-ai/lib/python3.7/site-packages/sklearn/utils/validation.py:72: DataConversionWarning: A column-vector y was passed when a 1d array was expected. Please change the shape of y to (n_samples, ), for example using ravel().\n",
      "  return f(**kwargs)\n",
      "/home/bitai/anaconda3/envs/cheese-ai/lib/python3.7/site-packages/sklearn/utils/validation.py:72: DataConversionWarning: A column-vector y was passed when a 1d array was expected. Please change the shape of y to (n_samples, ), for example using ravel().\n",
      "  return f(**kwargs)\n",
      "/home/bitai/anaconda3/envs/cheese-ai/lib/python3.7/site-packages/sklearn/utils/validation.py:72: DataConversionWarning: A column-vector y was passed when a 1d array was expected. Please change the shape of y to (n_samples, ), for example using ravel().\n",
      "  return f(**kwargs)\n",
      "/home/bitai/anaconda3/envs/cheese-ai/lib/python3.7/site-packages/sklearn/utils/validation.py:72: DataConversionWarning: A column-vector y was passed when a 1d array was expected. Please change the shape of y to (n_samples, ), for example using ravel().\n",
      "  return f(**kwargs)\n",
      "/home/bitai/anaconda3/envs/cheese-ai/lib/python3.7/site-packages/sklearn/utils/validation.py:72: DataConversionWarning: A column-vector y was passed when a 1d array was expected. Please change the shape of y to (n_samples, ), for example using ravel().\n",
      "  return f(**kwargs)\n",
      "/home/bitai/anaconda3/envs/cheese-ai/lib/python3.7/site-packages/sklearn/utils/validation.py:72: DataConversionWarning: A column-vector y was passed when a 1d array was expected. Please change the shape of y to (n_samples, ), for example using ravel().\n",
      "  return f(**kwargs)\n",
      "/home/bitai/anaconda3/envs/cheese-ai/lib/python3.7/site-packages/sklearn/utils/validation.py:72: DataConversionWarning: A column-vector y was passed when a 1d array was expected. Please change the shape of y to (n_samples, ), for example using ravel().\n",
      "  return f(**kwargs)\n",
      "/home/bitai/anaconda3/envs/cheese-ai/lib/python3.7/site-packages/sklearn/utils/validation.py:72: DataConversionWarning: A column-vector y was passed when a 1d array was expected. Please change the shape of y to (n_samples, ), for example using ravel().\n",
      "  return f(**kwargs)\n",
      "/home/bitai/anaconda3/envs/cheese-ai/lib/python3.7/site-packages/sklearn/utils/validation.py:72: DataConversionWarning: A column-vector y was passed when a 1d array was expected. Please change the shape of y to (n_samples, ), for example using ravel().\n",
      "  return f(**kwargs)\n",
      "/home/bitai/anaconda3/envs/cheese-ai/lib/python3.7/site-packages/sklearn/utils/validation.py:72: DataConversionWarning: A column-vector y was passed when a 1d array was expected. Please change the shape of y to (n_samples, ), for example using ravel().\n",
      "  return f(**kwargs)\n",
      "/home/bitai/anaconda3/envs/cheese-ai/lib/python3.7/site-packages/sklearn/utils/validation.py:72: DataConversionWarning: A column-vector y was passed when a 1d array was expected. Please change the shape of y to (n_samples, ), for example using ravel().\n",
      "  return f(**kwargs)\n",
      "/home/bitai/anaconda3/envs/cheese-ai/lib/python3.7/site-packages/sklearn/utils/validation.py:72: DataConversionWarning: A column-vector y was passed when a 1d array was expected. Please change the shape of y to (n_samples, ), for example using ravel().\n",
      "  return f(**kwargs)\n",
      "/home/bitai/anaconda3/envs/cheese-ai/lib/python3.7/site-packages/sklearn/utils/validation.py:72: DataConversionWarning: A column-vector y was passed when a 1d array was expected. Please change the shape of y to (n_samples, ), for example using ravel().\n",
      "  return f(**kwargs)\n",
      "/home/bitai/anaconda3/envs/cheese-ai/lib/python3.7/site-packages/sklearn/utils/validation.py:72: DataConversionWarning: A column-vector y was passed when a 1d array was expected. Please change the shape of y to (n_samples, ), for example using ravel().\n",
      "  return f(**kwargs)\n",
      "/home/bitai/anaconda3/envs/cheese-ai/lib/python3.7/site-packages/sklearn/utils/validation.py:72: DataConversionWarning: A column-vector y was passed when a 1d array was expected. Please change the shape of y to (n_samples, ), for example using ravel().\n",
      "  return f(**kwargs)\n",
      "/home/bitai/anaconda3/envs/cheese-ai/lib/python3.7/site-packages/sklearn/utils/validation.py:72: DataConversionWarning: A column-vector y was passed when a 1d array was expected. Please change the shape of y to (n_samples, ), for example using ravel().\n",
      "  return f(**kwargs)\n",
      "/home/bitai/anaconda3/envs/cheese-ai/lib/python3.7/site-packages/sklearn/utils/validation.py:72: DataConversionWarning: A column-vector y was passed when a 1d array was expected. Please change the shape of y to (n_samples, ), for example using ravel().\n",
      "  return f(**kwargs)\n",
      "/home/bitai/anaconda3/envs/cheese-ai/lib/python3.7/site-packages/sklearn/utils/validation.py:72: DataConversionWarning: A column-vector y was passed when a 1d array was expected. Please change the shape of y to (n_samples, ), for example using ravel().\n",
      "  return f(**kwargs)\n",
      "/home/bitai/anaconda3/envs/cheese-ai/lib/python3.7/site-packages/sklearn/utils/validation.py:72: DataConversionWarning: A column-vector y was passed when a 1d array was expected. Please change the shape of y to (n_samples, ), for example using ravel().\n",
      "  return f(**kwargs)\n",
      "/home/bitai/anaconda3/envs/cheese-ai/lib/python3.7/site-packages/sklearn/utils/validation.py:72: DataConversionWarning: A column-vector y was passed when a 1d array was expected. Please change the shape of y to (n_samples, ), for example using ravel().\n",
      "  return f(**kwargs)\n"
     ]
    },
    {
     "name": "stderr",
     "output_type": "stream",
     "text": [
      "/home/bitai/anaconda3/envs/cheese-ai/lib/python3.7/site-packages/sklearn/utils/validation.py:72: DataConversionWarning: A column-vector y was passed when a 1d array was expected. Please change the shape of y to (n_samples, ), for example using ravel().\n",
      "  return f(**kwargs)\n",
      "/home/bitai/anaconda3/envs/cheese-ai/lib/python3.7/site-packages/sklearn/utils/validation.py:72: DataConversionWarning: A column-vector y was passed when a 1d array was expected. Please change the shape of y to (n_samples, ), for example using ravel().\n",
      "  return f(**kwargs)\n",
      "/home/bitai/anaconda3/envs/cheese-ai/lib/python3.7/site-packages/sklearn/utils/validation.py:72: DataConversionWarning: A column-vector y was passed when a 1d array was expected. Please change the shape of y to (n_samples, ), for example using ravel().\n",
      "  return f(**kwargs)\n",
      "/home/bitai/anaconda3/envs/cheese-ai/lib/python3.7/site-packages/sklearn/utils/validation.py:72: DataConversionWarning: A column-vector y was passed when a 1d array was expected. Please change the shape of y to (n_samples, ), for example using ravel().\n",
      "  return f(**kwargs)\n",
      "/home/bitai/anaconda3/envs/cheese-ai/lib/python3.7/site-packages/sklearn/utils/validation.py:72: DataConversionWarning: A column-vector y was passed when a 1d array was expected. Please change the shape of y to (n_samples, ), for example using ravel().\n",
      "  return f(**kwargs)\n",
      "/home/bitai/anaconda3/envs/cheese-ai/lib/python3.7/site-packages/sklearn/utils/validation.py:72: DataConversionWarning: A column-vector y was passed when a 1d array was expected. Please change the shape of y to (n_samples, ), for example using ravel().\n",
      "  return f(**kwargs)\n",
      "/home/bitai/anaconda3/envs/cheese-ai/lib/python3.7/site-packages/sklearn/utils/validation.py:72: DataConversionWarning: A column-vector y was passed when a 1d array was expected. Please change the shape of y to (n_samples, ), for example using ravel().\n",
      "  return f(**kwargs)\n",
      "/home/bitai/anaconda3/envs/cheese-ai/lib/python3.7/site-packages/sklearn/utils/validation.py:72: DataConversionWarning: A column-vector y was passed when a 1d array was expected. Please change the shape of y to (n_samples, ), for example using ravel().\n",
      "  return f(**kwargs)\n",
      "/home/bitai/anaconda3/envs/cheese-ai/lib/python3.7/site-packages/sklearn/utils/validation.py:72: DataConversionWarning: A column-vector y was passed when a 1d array was expected. Please change the shape of y to (n_samples, ), for example using ravel().\n",
      "  return f(**kwargs)\n",
      "/home/bitai/anaconda3/envs/cheese-ai/lib/python3.7/site-packages/sklearn/utils/validation.py:72: DataConversionWarning: A column-vector y was passed when a 1d array was expected. Please change the shape of y to (n_samples, ), for example using ravel().\n",
      "  return f(**kwargs)\n",
      "/home/bitai/anaconda3/envs/cheese-ai/lib/python3.7/site-packages/sklearn/utils/validation.py:72: DataConversionWarning: A column-vector y was passed when a 1d array was expected. Please change the shape of y to (n_samples, ), for example using ravel().\n",
      "  return f(**kwargs)\n"
     ]
    },
    {
     "name": "stdout",
     "output_type": "stream",
     "text": [
      "{'C': 30, 'gamma': 0.25}\n",
      "0.9957769282416095\n"
     ]
    }
   ],
   "source": [
    "# GridSearchCV를 사용하면 최적의 parameter와 그때의 score값을 한 번에 찾을 수 있음.\n",
    "from sklearn.model_selection import GridSearchCV\n",
    "\n",
    "param = {'C': [1, 5, 10, 20, 30],\n",
    "        'gamma': [.1, .25, .5, 1]}\n",
    "\n",
    "GS = GridSearchCV(SVC(kernel = 'rbf'), param, cv = 5)\n",
    "GS.fit(X_user_train_sc, y_user_train)\n",
    "print(GS.best_params_)\n",
    "print(GS.best_score_)"
   ]
  },
  {
   "cell_type": "markdown",
   "metadata": {},
   "source": [
    "## Predicion (예측하기)"
   ]
  },
  {
   "cell_type": "code",
   "execution_count": 19,
   "metadata": {},
   "outputs": [
    {
     "ename": "NameError",
     "evalue": "name 'test' is not defined",
     "output_type": "error",
     "traceback": [
      "\u001b[0;31m---------------------------------------------------------------------------\u001b[0m",
      "\u001b[0;31mNameError\u001b[0m                                 Traceback (most recent call last)",
      "\u001b[0;32m<ipython-input-19-fd5de62d78c8>\u001b[0m in \u001b[0;36m<module>\u001b[0;34m\u001b[0m\n\u001b[0;32m----> 1\u001b[0;31m \u001b[0mtest\u001b[0m \u001b[0;34m=\u001b[0m \u001b[0mtest\u001b[0m\u001b[0;34m.\u001b[0m\u001b[0mdrop\u001b[0m\u001b[0;34m(\u001b[0m\u001b[0;34m[\u001b[0m\u001b[0;34m'id'\u001b[0m\u001b[0;34m]\u001b[0m\u001b[0;34m,\u001b[0m \u001b[0maxis\u001b[0m \u001b[0;34m=\u001b[0m \u001b[0;36m1\u001b[0m\u001b[0;34m)\u001b[0m\u001b[0;34m\u001b[0m\u001b[0;34m\u001b[0m\u001b[0m\n\u001b[0m\u001b[1;32m      2\u001b[0m \u001b[0mtest\u001b[0m\u001b[0;34m.\u001b[0m\u001b[0mhead\u001b[0m\u001b[0;34m(\u001b[0m\u001b[0;34m)\u001b[0m\u001b[0;34m\u001b[0m\u001b[0;34m\u001b[0m\u001b[0m\n\u001b[1;32m      3\u001b[0m \u001b[0mtestmat\u001b[0m \u001b[0;34m=\u001b[0m \u001b[0mnp\u001b[0m\u001b[0;34m.\u001b[0m\u001b[0marray\u001b[0m\u001b[0;34m(\u001b[0m\u001b[0mtest\u001b[0m\u001b[0;34m)\u001b[0m\u001b[0;34m\u001b[0m\u001b[0;34m\u001b[0m\u001b[0m\n\u001b[1;32m      4\u001b[0m \u001b[0mtest\u001b[0m \u001b[0;34m=\u001b[0m \u001b[0mscaler\u001b[0m\u001b[0;34m.\u001b[0m\u001b[0mfit_transform\u001b[0m\u001b[0;34m(\u001b[0m\u001b[0mtest\u001b[0m\u001b[0;34m)\u001b[0m\u001b[0;34m\u001b[0m\u001b[0;34m\u001b[0m\u001b[0m\n\u001b[1;32m      5\u001b[0m \u001b[0;34m\u001b[0m\u001b[0m\n",
      "\u001b[0;31mNameError\u001b[0m: name 'test' is not defined"
     ]
    }
   ],
   "source": [
    "X_user_test = test.drop(['id'], axis = 1)\n",
    "test.head()\n",
    "testmat = np.array(test)\n",
    "test = scaler.fit_transform(test)\n",
    "\n",
    "model = SVC(kernel = 'rbf', C = 10, gamma= .1).fit(X_user_train_std, y_user_train)"
   ]
  },
  {
   "cell_type": "code",
   "execution_count": null,
   "metadata": {},
   "outputs": [],
   "source": [
    "prediction = model.predict(test)\n",
    "pred = pd.DataFrame(prediction)\n",
    "pred"
   ]
  }
 ],
 "metadata": {
  "kernelspec": {
   "display_name": "Python 3",
   "language": "python",
   "name": "python3"
  },
  "language_info": {
   "codemirror_mode": {
    "name": "ipython",
    "version": 3
   },
   "file_extension": ".py",
   "mimetype": "text/x-python",
   "name": "python",
   "nbconvert_exporter": "python",
   "pygments_lexer": "ipython3",
   "version": "3.7.6"
  }
 },
 "nbformat": 4,
 "nbformat_minor": 4
}
